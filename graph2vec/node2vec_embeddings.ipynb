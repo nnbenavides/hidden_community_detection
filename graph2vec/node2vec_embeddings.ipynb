{
 "cells": [
  {
   "cell_type": "code",
   "execution_count": 21,
   "metadata": {
    "collapsed": true
   },
   "outputs": [],
   "source": [
    "import networkx as nx\n",
    "import pandas as pd\n",
    "import numpy as np\n",
    "from graph2vec import Node2Vec # https://github.com/VHRanger/graph2vec?fbclid=IwAR1Hr4TwxCnhhiSW5AXY4MTshF7u6NHJx-F_FDqPqElpYACAtQiAAShEeyE"
   ]
  },
  {
   "cell_type": "code",
   "execution_count": 3,
   "metadata": {},
   "outputs": [],
   "source": [
    "# Load graph into networkx (weighted, undirected)\n",
    "df = pd.read_csv('../data/reddit_nodes_weighted_full.csv', header=None, names=['source', 'target', 'weight'])\n",
    "G = nx.from_pandas_edgelist(df, edge_attr='weight', create_using=nx.Graph())"
   ]
  },
  {
   "cell_type": "code",
   "execution_count": 23,
   "metadata": {},
   "outputs": [],
   "source": [
    "g2v = Node2Vec(walklen = 25, epochs = 50, return_weight = 1., neighbor_weight = 1., threads = 0,\n",
    "              w2vparams = {\"window\":10, \"size\": 64, \"negative\":20, \"iter\":50, \"batch_words\":128})        "
   ]
  },
  {
   "cell_type": "code",
   "execution_count": null,
   "metadata": {},
   "outputs": [
    {
     "name": "stdout",
     "output_type": "stream",
     "text": [
      "Making walks... Done, T=35.56\n",
      "Mapping Walk Names... Done, T=100.30\n",
      "Training W2V... WARNING: gensim word2vec version is unoptimizedTry version 3.6 if on windows, versions 3.7 and 3.8 have had issues\n"
     ]
    }
   ],
   "source": [
    "g2v.fit(G)"
   ]
  },
  {
   "cell_type": "code",
   "execution_count": null,
   "metadata": {},
   "outputs": [],
   "source": [
    "# useful link for w2vparams: https://radimrehurek.com/gensim/models/word2vec.html\n",
    "node2vec_embeddings = {}\n",
    "for node in G.nodes:\n",
    "    vec = g2v.predict(node)\n",
    "    node2vec_embeddings[node] = vec\n",
    "    \n"
   ]
  },
  {
   "cell_type": "code",
   "execution_count": null,
   "metadata": {},
   "outputs": [],
   "source": [
    "len(node2vec_embeddings)"
   ]
  },
  {
   "cell_type": "code",
   "execution_count": null,
   "metadata": {},
   "outputs": [],
   "source": [
    "node2vec_embeddings[12345]"
   ]
  },
  {
   "cell_type": "code",
   "execution_count": null,
   "metadata": {},
   "outputs": [],
   "source": [
    "np.save('../data/node2vec_medium.npy', node2vec_embeddings)"
   ]
  },
  {
   "cell_type": "code",
   "execution_count": null,
   "metadata": {
    "collapsed": true
   },
   "outputs": [],
   "source": []
  }
 ],
 "metadata": {
  "kernelspec": {
   "display_name": "224env",
   "language": "python",
   "name": "224env"
  },
  "language_info": {
   "codemirror_mode": {
    "name": "ipython",
    "version": 3
   },
   "file_extension": ".py",
   "mimetype": "text/x-python",
   "name": "python",
   "nbconvert_exporter": "python",
   "pygments_lexer": "ipython3",
   "version": "3.7.3"
  }
 },
 "nbformat": 4,
 "nbformat_minor": 2
}
