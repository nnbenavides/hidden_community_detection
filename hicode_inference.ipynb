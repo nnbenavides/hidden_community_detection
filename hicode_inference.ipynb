{
 "cells": [
  {
   "cell_type": "code",
   "execution_count": 8,
   "metadata": {
    "collapsed": true
   },
   "outputs": [],
   "source": [
    "import networkx as nx\n",
    "import pandas as pd\n",
    "import community\n",
    "import numpy as np\n",
    "import utils"
   ]
  },
  {
   "cell_type": "code",
   "execution_count": 9,
   "metadata": {
    "collapsed": true
   },
   "outputs": [],
   "source": [
    "def load_graph(filename):\n",
    "    df = pd.read_csv(filename, header=None, names=['source', 'target', 'weight'])\n",
    "    G = nx.from_pandas_edgelist(df, edge_attr='weight', create_using=nx.Graph())\n",
    "    return G"
   ]
  },
  {
   "cell_type": "code",
   "execution_count": 10,
   "metadata": {
    "collapsed": true
   },
   "outputs": [],
   "source": [
    "def add_inference_edges(G, edge_list):\n",
    "    edges = pd.read_csv(edge_list, header = None)\n",
    "    edges.columns = ['src', 'dst', 'weight']\n",
    "    edge_tuples = []\n",
    "    for i in range(edges.shape[0]):\n",
    "        src = edges.iloc[i, 0]\n",
    "        dst = edges.iloc[i, 1]\n",
    "        weight = edges.iloc[i, 2]\n",
    "        edge_tuples.append((src, dst, weight))\n",
    "    G.add_weighted_edges_from(edge_tuples)\n",
    "    return G"
   ]
  },
  {
   "cell_type": "code",
   "execution_count": 11,
   "metadata": {
    "collapsed": true
   },
   "outputs": [],
   "source": [
    "def write_out_results(reverse_comms, filename):\n",
    "    # Write results to file\n",
    "    f = open('results/' + filename, 'a')\n",
    "    for cmty, nodes in reverse_comms.items():\n",
    "        f.write(\"Community %d:\\n\" % cmty)\n",
    "        for node in nodes:\n",
    "            f.write(nodes_mapping[node] + \"\\n\")\n",
    "        f.write(\"\\n\")"
   ]
  },
  {
   "cell_type": "code",
   "execution_count": 12,
   "metadata": {},
   "outputs": [
    {
     "name": "stdout",
     "output_type": "stream",
     "text": [
      "OG edges: 309667\n",
      "New edges:  372285\n"
     ]
    }
   ],
   "source": [
    "G = load_graph('data/reddit_nodes_weighted_full.csv')\n",
    "print('OG edges:', len(G.edges()))\n",
    "G = add_inference_edges(G, 'new_edges/linreg_rolx_edges_to_add.csv')\n",
    "print('New edges: ', len(G.edges()))"
   ]
  },
  {
   "cell_type": "code",
   "execution_count": null,
   "metadata": {},
   "outputs": [],
   "source": [
    "R_t, G_1, layers_1 = utils.hicode(G,1)\n",
    "print(\"hicode 1\",R_t)"
   ]
  },
  {
   "cell_type": "code",
   "execution_count": null,
   "metadata": {
    "collapsed": true
   },
   "outputs": [],
   "source": [
    "R_t, G_2, layers_2 = utils.hicode(G,2)\n",
    "print(\"hicode 2\",R_t)"
   ]
  },
  {
   "cell_type": "code",
   "execution_count": null,
   "metadata": {
    "collapsed": true
   },
   "outputs": [],
   "source": [
    "R_t, G_3, layers_3 = utils.hicode(G,3)\n",
    "print(\"hicode 3\",R_t)"
   ]
  },
  {
   "cell_type": "code",
   "execution_count": null,
   "metadata": {
    "collapsed": true
   },
   "outputs": [],
   "source": [
    "nodes_mapping = utils.load_nodes_mapping()\n",
    "partitions = []\n",
    "for num_layer, layer in enumerate(layers_2):\n",
    "    print(\"community_count\",len(layer))\n",
    "    revised_community_count = 0\n",
    "    for i,subgraph in enumerate(layer):\n",
    "        if len(subgraph.nodes) > 100:\n",
    "            revised_community_count += 1\n",
    "    print(\"revised_community_count\",revised_community_count)\n",
    "    \n",
    "    partition = utils.layer_to_partition(layer,G_weighted)\n",
    "    print(\"layer number \", num_layer + 1)\n",
    "    print(utils.modularity(partition,G_weighted))\n",
    "    print(utils.modularity(partition,G_2))\n",
    "    partitions.append(partition)\n",
    "    reverse_comms = utils.reverse_dict(partition)\n",
    "    utils.write_results_to_file(reverse_comms,nodes_mapping,\"layer_\"+str(num_layer + 1))"
   ]
  },
  {
   "cell_type": "code",
   "execution_count": null,
   "metadata": {
    "collapsed": true
   },
   "outputs": [],
   "source": []
  }
 ],
 "metadata": {
  "kernelspec": {
   "display_name": "224env",
   "language": "python",
   "name": "224env"
  },
  "language_info": {
   "codemirror_mode": {
    "name": "ipython",
    "version": 3
   },
   "file_extension": ".py",
   "mimetype": "text/x-python",
   "name": "python",
   "nbconvert_exporter": "python",
   "pygments_lexer": "ipython3",
   "version": "3.7.3"
  }
 },
 "nbformat": 4,
 "nbformat_minor": 2
}
