{
 "cells": [
  {
   "cell_type": "code",
   "execution_count": 5,
   "metadata": {
    "collapsed": true
   },
   "outputs": [],
   "source": [
    "import pandas as pd\n",
    "import numpy as np\n",
    "from sklearn.model_selection import train_test_split\n",
    "import math\n",
    "from sklearn.linear_model import LinearRegression\n",
    "from sklearn.metrics import mean_squared_error, r2_score, mean_absolute_error"
   ]
  },
  {
   "cell_type": "code",
   "execution_count": 6,
   "metadata": {
    "collapsed": true
   },
   "outputs": [],
   "source": [
    "# load dataset\n",
    "data = pd.read_csv('data/node2vec_basic_dataset_weighted.csv', index_col = 0)"
   ]
  },
  {
   "cell_type": "code",
   "execution_count": 13,
   "metadata": {},
   "outputs": [],
   "source": [
    "# drop outliers - has significant affect on linear regression results\n",
    "q = data[\"label\"].quantile(0.99)\n",
    "data = data[data[\"label\"] < q]"
   ]
  },
  {
   "cell_type": "code",
   "execution_count": 14,
   "metadata": {},
   "outputs": [
    {
     "data": {
      "text/html": [
       "<div>\n",
       "<style scoped>\n",
       "    .dataframe tbody tr th:only-of-type {\n",
       "        vertical-align: middle;\n",
       "    }\n",
       "\n",
       "    .dataframe tbody tr th {\n",
       "        vertical-align: top;\n",
       "    }\n",
       "\n",
       "    .dataframe thead th {\n",
       "        text-align: right;\n",
       "    }\n",
       "</style>\n",
       "<table border=\"1\" class=\"dataframe\">\n",
       "  <thead>\n",
       "    <tr style=\"text-align: right;\">\n",
       "      <th></th>\n",
       "      <th>src0</th>\n",
       "      <th>src1</th>\n",
       "      <th>src2</th>\n",
       "      <th>src3</th>\n",
       "      <th>src4</th>\n",
       "      <th>src5</th>\n",
       "      <th>src6</th>\n",
       "      <th>src7</th>\n",
       "      <th>src8</th>\n",
       "      <th>src9</th>\n",
       "      <th>...</th>\n",
       "      <th>dst54</th>\n",
       "      <th>dst55</th>\n",
       "      <th>dst56</th>\n",
       "      <th>dst57</th>\n",
       "      <th>dst58</th>\n",
       "      <th>dst59</th>\n",
       "      <th>dst60</th>\n",
       "      <th>dst61</th>\n",
       "      <th>dst62</th>\n",
       "      <th>dst63</th>\n",
       "    </tr>\n",
       "  </thead>\n",
       "  <tbody>\n",
       "    <tr>\n",
       "      <th>506028</th>\n",
       "      <td>-0.502074</td>\n",
       "      <td>-0.205431</td>\n",
       "      <td>-0.208100</td>\n",
       "      <td>0.454686</td>\n",
       "      <td>0.558753</td>\n",
       "      <td>0.273764</td>\n",
       "      <td>0.261005</td>\n",
       "      <td>0.093908</td>\n",
       "      <td>-0.180036</td>\n",
       "      <td>0.440083</td>\n",
       "      <td>...</td>\n",
       "      <td>-2.555779</td>\n",
       "      <td>-1.764843</td>\n",
       "      <td>1.444440</td>\n",
       "      <td>0.798545</td>\n",
       "      <td>-0.344480</td>\n",
       "      <td>0.389152</td>\n",
       "      <td>-0.827190</td>\n",
       "      <td>1.773951</td>\n",
       "      <td>-1.260498</td>\n",
       "      <td>0.759518</td>\n",
       "    </tr>\n",
       "    <tr>\n",
       "      <th>389600</th>\n",
       "      <td>-0.685313</td>\n",
       "      <td>0.178513</td>\n",
       "      <td>-0.385685</td>\n",
       "      <td>0.576294</td>\n",
       "      <td>0.920263</td>\n",
       "      <td>-0.301337</td>\n",
       "      <td>-0.068909</td>\n",
       "      <td>0.047137</td>\n",
       "      <td>0.684309</td>\n",
       "      <td>-0.021873</td>\n",
       "      <td>...</td>\n",
       "      <td>-0.384930</td>\n",
       "      <td>-0.403740</td>\n",
       "      <td>0.535310</td>\n",
       "      <td>0.523825</td>\n",
       "      <td>0.635128</td>\n",
       "      <td>-0.070574</td>\n",
       "      <td>0.391891</td>\n",
       "      <td>-0.069345</td>\n",
       "      <td>-0.873973</td>\n",
       "      <td>-0.376768</td>\n",
       "    </tr>\n",
       "    <tr>\n",
       "      <th>272270</th>\n",
       "      <td>1.916860</td>\n",
       "      <td>-0.006106</td>\n",
       "      <td>-1.368155</td>\n",
       "      <td>-0.656563</td>\n",
       "      <td>3.637150</td>\n",
       "      <td>-0.417407</td>\n",
       "      <td>3.363787</td>\n",
       "      <td>-3.915681</td>\n",
       "      <td>3.472558</td>\n",
       "      <td>-1.812510</td>\n",
       "      <td>...</td>\n",
       "      <td>-2.331010</td>\n",
       "      <td>-2.500980</td>\n",
       "      <td>1.651505</td>\n",
       "      <td>-0.559541</td>\n",
       "      <td>0.170048</td>\n",
       "      <td>-0.580766</td>\n",
       "      <td>1.535017</td>\n",
       "      <td>2.165002</td>\n",
       "      <td>0.699544</td>\n",
       "      <td>1.274908</td>\n",
       "    </tr>\n",
       "    <tr>\n",
       "      <th>158517</th>\n",
       "      <td>0.117559</td>\n",
       "      <td>2.069915</td>\n",
       "      <td>-0.247980</td>\n",
       "      <td>0.025814</td>\n",
       "      <td>4.703812</td>\n",
       "      <td>-0.900471</td>\n",
       "      <td>4.334816</td>\n",
       "      <td>-2.250279</td>\n",
       "      <td>1.456761</td>\n",
       "      <td>0.944309</td>\n",
       "      <td>...</td>\n",
       "      <td>4.370479</td>\n",
       "      <td>0.304916</td>\n",
       "      <td>-4.363379</td>\n",
       "      <td>0.957070</td>\n",
       "      <td>-1.649037</td>\n",
       "      <td>-1.420114</td>\n",
       "      <td>-2.292599</td>\n",
       "      <td>2.156790</td>\n",
       "      <td>0.185897</td>\n",
       "      <td>2.327306</td>\n",
       "    </tr>\n",
       "    <tr>\n",
       "      <th>457451</th>\n",
       "      <td>-0.667499</td>\n",
       "      <td>0.257804</td>\n",
       "      <td>-0.278962</td>\n",
       "      <td>-0.251559</td>\n",
       "      <td>0.635071</td>\n",
       "      <td>-0.860158</td>\n",
       "      <td>0.571181</td>\n",
       "      <td>-0.241247</td>\n",
       "      <td>0.661280</td>\n",
       "      <td>-0.354348</td>\n",
       "      <td>...</td>\n",
       "      <td>-1.265548</td>\n",
       "      <td>-0.599124</td>\n",
       "      <td>0.574271</td>\n",
       "      <td>0.750123</td>\n",
       "      <td>-0.259373</td>\n",
       "      <td>-0.003319</td>\n",
       "      <td>0.752094</td>\n",
       "      <td>1.217232</td>\n",
       "      <td>-0.811570</td>\n",
       "      <td>-0.102391</td>\n",
       "    </tr>\n",
       "    <tr>\n",
       "      <th>96139</th>\n",
       "      <td>-0.600717</td>\n",
       "      <td>-1.355594</td>\n",
       "      <td>-3.499774</td>\n",
       "      <td>-1.740187</td>\n",
       "      <td>3.456360</td>\n",
       "      <td>2.107548</td>\n",
       "      <td>-2.242504</td>\n",
       "      <td>0.438141</td>\n",
       "      <td>-3.232942</td>\n",
       "      <td>2.700440</td>\n",
       "      <td>...</td>\n",
       "      <td>-0.090972</td>\n",
       "      <td>-0.336486</td>\n",
       "      <td>-1.543155</td>\n",
       "      <td>1.158376</td>\n",
       "      <td>1.028706</td>\n",
       "      <td>0.543339</td>\n",
       "      <td>-2.789739</td>\n",
       "      <td>0.340252</td>\n",
       "      <td>-3.808890</td>\n",
       "      <td>1.205908</td>\n",
       "    </tr>\n",
       "    <tr>\n",
       "      <th>393986</th>\n",
       "      <td>-1.327985</td>\n",
       "      <td>-0.040829</td>\n",
       "      <td>-0.581102</td>\n",
       "      <td>-0.383013</td>\n",
       "      <td>1.350631</td>\n",
       "      <td>-0.546643</td>\n",
       "      <td>-0.487392</td>\n",
       "      <td>-1.593578</td>\n",
       "      <td>0.695566</td>\n",
       "      <td>-0.845451</td>\n",
       "      <td>...</td>\n",
       "      <td>0.273516</td>\n",
       "      <td>-0.761409</td>\n",
       "      <td>0.202237</td>\n",
       "      <td>0.151441</td>\n",
       "      <td>0.092010</td>\n",
       "      <td>0.163899</td>\n",
       "      <td>0.102748</td>\n",
       "      <td>0.572147</td>\n",
       "      <td>0.383779</td>\n",
       "      <td>-0.780366</td>\n",
       "    </tr>\n",
       "    <tr>\n",
       "      <th>163223</th>\n",
       "      <td>-3.823710</td>\n",
       "      <td>0.422956</td>\n",
       "      <td>0.624361</td>\n",
       "      <td>2.614134</td>\n",
       "      <td>-1.458366</td>\n",
       "      <td>-0.552552</td>\n",
       "      <td>1.392234</td>\n",
       "      <td>-0.959714</td>\n",
       "      <td>-0.611547</td>\n",
       "      <td>-2.728100</td>\n",
       "      <td>...</td>\n",
       "      <td>-0.134211</td>\n",
       "      <td>2.763403</td>\n",
       "      <td>-2.816531</td>\n",
       "      <td>-0.212345</td>\n",
       "      <td>0.477211</td>\n",
       "      <td>-0.036607</td>\n",
       "      <td>-1.142830</td>\n",
       "      <td>2.886069</td>\n",
       "      <td>3.983221</td>\n",
       "      <td>-2.567622</td>\n",
       "    </tr>\n",
       "    <tr>\n",
       "      <th>167541</th>\n",
       "      <td>3.316294</td>\n",
       "      <td>4.231339</td>\n",
       "      <td>7.027232</td>\n",
       "      <td>1.828667</td>\n",
       "      <td>-2.065130</td>\n",
       "      <td>-0.231957</td>\n",
       "      <td>1.679622</td>\n",
       "      <td>-0.966612</td>\n",
       "      <td>0.618430</td>\n",
       "      <td>-0.138694</td>\n",
       "      <td>...</td>\n",
       "      <td>1.372003</td>\n",
       "      <td>-1.514764</td>\n",
       "      <td>0.374591</td>\n",
       "      <td>-0.120298</td>\n",
       "      <td>-0.874889</td>\n",
       "      <td>-2.179856</td>\n",
       "      <td>1.663809</td>\n",
       "      <td>0.661233</td>\n",
       "      <td>0.614403</td>\n",
       "      <td>0.522464</td>\n",
       "    </tr>\n",
       "    <tr>\n",
       "      <th>429385</th>\n",
       "      <td>-0.586006</td>\n",
       "      <td>-0.122511</td>\n",
       "      <td>-0.781875</td>\n",
       "      <td>0.513499</td>\n",
       "      <td>0.727583</td>\n",
       "      <td>-1.156577</td>\n",
       "      <td>0.468368</td>\n",
       "      <td>0.344901</td>\n",
       "      <td>0.872234</td>\n",
       "      <td>0.080436</td>\n",
       "      <td>...</td>\n",
       "      <td>-0.660583</td>\n",
       "      <td>-0.087530</td>\n",
       "      <td>0.295456</td>\n",
       "      <td>-0.113256</td>\n",
       "      <td>0.880455</td>\n",
       "      <td>-0.011184</td>\n",
       "      <td>-0.670374</td>\n",
       "      <td>-0.402418</td>\n",
       "      <td>0.886615</td>\n",
       "      <td>-0.066361</td>\n",
       "    </tr>\n",
       "  </tbody>\n",
       "</table>\n",
       "<p>10 rows × 128 columns</p>\n",
       "</div>"
      ],
      "text/plain": [
       "            src0      src1      src2      src3      src4      src5      src6  \\\n",
       "506028 -0.502074 -0.205431 -0.208100  0.454686  0.558753  0.273764  0.261005   \n",
       "389600 -0.685313  0.178513 -0.385685  0.576294  0.920263 -0.301337 -0.068909   \n",
       "272270  1.916860 -0.006106 -1.368155 -0.656563  3.637150 -0.417407  3.363787   \n",
       "158517  0.117559  2.069915 -0.247980  0.025814  4.703812 -0.900471  4.334816   \n",
       "457451 -0.667499  0.257804 -0.278962 -0.251559  0.635071 -0.860158  0.571181   \n",
       "96139  -0.600717 -1.355594 -3.499774 -1.740187  3.456360  2.107548 -2.242504   \n",
       "393986 -1.327985 -0.040829 -0.581102 -0.383013  1.350631 -0.546643 -0.487392   \n",
       "163223 -3.823710  0.422956  0.624361  2.614134 -1.458366 -0.552552  1.392234   \n",
       "167541  3.316294  4.231339  7.027232  1.828667 -2.065130 -0.231957  1.679622   \n",
       "429385 -0.586006 -0.122511 -0.781875  0.513499  0.727583 -1.156577  0.468368   \n",
       "\n",
       "            src7      src8      src9  ...     dst54     dst55     dst56  \\\n",
       "506028  0.093908 -0.180036  0.440083  ... -2.555779 -1.764843  1.444440   \n",
       "389600  0.047137  0.684309 -0.021873  ... -0.384930 -0.403740  0.535310   \n",
       "272270 -3.915681  3.472558 -1.812510  ... -2.331010 -2.500980  1.651505   \n",
       "158517 -2.250279  1.456761  0.944309  ...  4.370479  0.304916 -4.363379   \n",
       "457451 -0.241247  0.661280 -0.354348  ... -1.265548 -0.599124  0.574271   \n",
       "96139   0.438141 -3.232942  2.700440  ... -0.090972 -0.336486 -1.543155   \n",
       "393986 -1.593578  0.695566 -0.845451  ...  0.273516 -0.761409  0.202237   \n",
       "163223 -0.959714 -0.611547 -2.728100  ... -0.134211  2.763403 -2.816531   \n",
       "167541 -0.966612  0.618430 -0.138694  ...  1.372003 -1.514764  0.374591   \n",
       "429385  0.344901  0.872234  0.080436  ... -0.660583 -0.087530  0.295456   \n",
       "\n",
       "           dst57     dst58     dst59     dst60     dst61     dst62     dst63  \n",
       "506028  0.798545 -0.344480  0.389152 -0.827190  1.773951 -1.260498  0.759518  \n",
       "389600  0.523825  0.635128 -0.070574  0.391891 -0.069345 -0.873973 -0.376768  \n",
       "272270 -0.559541  0.170048 -0.580766  1.535017  2.165002  0.699544  1.274908  \n",
       "158517  0.957070 -1.649037 -1.420114 -2.292599  2.156790  0.185897  2.327306  \n",
       "457451  0.750123 -0.259373 -0.003319  0.752094  1.217232 -0.811570 -0.102391  \n",
       "96139   1.158376  1.028706  0.543339 -2.789739  0.340252 -3.808890  1.205908  \n",
       "393986  0.151441  0.092010  0.163899  0.102748  0.572147  0.383779 -0.780366  \n",
       "163223 -0.212345  0.477211 -0.036607 -1.142830  2.886069  3.983221 -2.567622  \n",
       "167541 -0.120298 -0.874889 -2.179856  1.663809  0.661233  0.614403  0.522464  \n",
       "429385 -0.113256  0.880455 -0.011184 -0.670374 -0.402418  0.886615 -0.066361  \n",
       "\n",
       "[10 rows x 128 columns]"
      ]
     },
     "execution_count": 14,
     "metadata": {},
     "output_type": "execute_result"
    }
   ],
   "source": [
    "X = data.copy()\n",
    "X = X.drop(['label'], axis = 1)\n",
    "X.sample(10)"
   ]
  },
  {
   "cell_type": "code",
   "execution_count": 15,
   "metadata": {},
   "outputs": [
    {
     "data": {
      "text/plain": [
       "194959    1\n",
       "391942    0\n",
       "114952    1\n",
       "498665    0\n",
       "552175    0\n",
       "605493    0\n",
       "171529    1\n",
       "471205    0\n",
       "328106    0\n",
       "316976    0\n",
       "Name: label, dtype: int64"
      ]
     },
     "execution_count": 15,
     "metadata": {},
     "output_type": "execute_result"
    }
   ],
   "source": [
    "y = data['label']\n",
    "y.sample(10)"
   ]
  },
  {
   "cell_type": "code",
   "execution_count": 16,
   "metadata": {},
   "outputs": [
    {
     "name": "stdout",
     "output_type": "stream",
     "text": [
      "(551708, 128)\n",
      "(551708,)\n",
      "(61301, 128)\n",
      "(61301,)\n"
     ]
    }
   ],
   "source": [
    "# 90/10 train-test split\n",
    "X_train, X_test, y_train, y_test = train_test_split(X, y, test_size=0.10, random_state=42)\n",
    "\n",
    "print(X_train.shape)\n",
    "print(y_train.shape)\n",
    "print(X_test.shape)\n",
    "print(y_test.shape)"
   ]
  },
  {
   "cell_type": "code",
   "execution_count": 17,
   "metadata": {},
   "outputs": [
    {
     "data": {
      "text/plain": [
       "LinearRegression(copy_X=True, fit_intercept=True, n_jobs=None, normalize=True)"
      ]
     },
     "execution_count": 17,
     "metadata": {},
     "output_type": "execute_result"
    }
   ],
   "source": [
    "linreg = LinearRegression(normalize = True)\n",
    "linreg.fit(X_train, y_train)"
   ]
  },
  {
   "cell_type": "code",
   "execution_count": 18,
   "metadata": {},
   "outputs": [
    {
     "name": "stdout",
     "output_type": "stream",
     "text": [
      "Mean squared error: 1.0851\n",
      "Mean absolute error: 0.4519\n",
      "R^2: 0.2851\n"
     ]
    }
   ],
   "source": [
    "y_train_pred = linreg.predict(X_train)\n",
    "y_train_pred = [max(int(round(x)), 0) for x in y_train_pred]\n",
    "print(\"RMSE: %.4f\" % math.sqrt(mean_squared_error(y_train, y_train_pred)))\n",
    "print(\"Mean absolute error: %.4f\" % mean_absolute_error(y_train, y_train_pred))\n",
    "print('R^2: %.4f' % r2_score(y_train, y_train_pred))"
   ]
  },
  {
   "cell_type": "code",
   "execution_count": 19,
   "metadata": {},
   "outputs": [
    {
     "name": "stdout",
     "output_type": "stream",
     "text": [
      "Mean squared error: 1.0770\n",
      "Mean absolute error: 0.4497\n",
      "R^2: 0.2881\n"
     ]
    }
   ],
   "source": [
    "y_test_pred = linreg.predict(X_test)\n",
    "y_test_pred = [max(int(round(x)), 0) for x in y_test_pred]\n",
    "print(\"RMSE: %.4f\" % math.sqrt(mean_squared_error(y_test, y_test_pred)))\n",
    "print(\"Mean absolute error: %.4f\" % mean_absolute_error(y_test, y_test_pred))\n",
    "print('R^2: %.4f' % r2_score(y_test, y_test_pred))"
   ]
  },
  {
   "cell_type": "code",
   "execution_count": 20,
   "metadata": {
    "collapsed": true
   },
   "outputs": [],
   "source": [
    "def load_inference_data(filename, n_examples):\n",
    "    inference_data = pd.read_csv(filename, index_col = 0)\n",
    "    inference_data = inference_data.sample(n_examples)\n",
    "    inference_node_pairs = inference_data[['src_id', 'dst_id']]\n",
    "    inference_features = inference_data.copy()\n",
    "    inference_features.drop(['src_id', 'dst_id'], axis = 1, inplace = True)\n",
    "    return inference_node_pairs, inference_features"
   ]
  },
  {
   "cell_type": "code",
   "execution_count": 24,
   "metadata": {},
   "outputs": [],
   "source": [
    "# load inference dataset\n",
    "inference_node_pairs, inference_features = load_inference_data('data/node2vec_medium_inference_weighted.csv', 200000)"
   ]
  },
  {
   "cell_type": "code",
   "execution_count": 25,
   "metadata": {},
   "outputs": [
    {
     "name": "stdout",
     "output_type": "stream",
     "text": [
      "39558\n"
     ]
    }
   ],
   "source": [
    "inference_preds = linreg.predict(inference_features)\n",
    "inference_preds = [max(int(round(x)), 0) for x in inference_preds]\n",
    "print(np.count_nonzero(inference_preds))"
   ]
  },
  {
   "cell_type": "code",
   "execution_count": 26,
   "metadata": {
    "collapsed": true
   },
   "outputs": [],
   "source": [
    "def output_new_edges(inference_preds, inference_node_pairs, model_type, embedding_type):\n",
    "    filename = 'data/' + model_type + '_' + embedding_type + '_edges_to_add.csv'\n",
    "    with open(filename, 'w') as out_file:\n",
    "        for i, pred in enumerate(inference_preds):\n",
    "            if pred > 0:\n",
    "                src = inference_node_pairs.iloc[i, 0]\n",
    "                dst = inference_node_pairs.iloc[i, 1]\n",
    "                weight = pred\n",
    "                line = str(src) + ', ' + str(dst) + ', ' + str(weight) + '\\n'\n",
    "                out_file.write(line)"
   ]
  },
  {
   "cell_type": "code",
   "execution_count": 27,
   "metadata": {
    "collapsed": true
   },
   "outputs": [],
   "source": [
    "output_new_edges(inference_preds, inference_node_pairs, 'linreg', 'node2vec')"
   ]
  }
 ],
 "metadata": {
  "kernelspec": {
   "display_name": "224env",
   "language": "python",
   "name": "224env"
  },
  "language_info": {
   "codemirror_mode": {
    "name": "ipython",
    "version": 3
   },
   "file_extension": ".py",
   "mimetype": "text/x-python",
   "name": "python",
   "nbconvert_exporter": "python",
   "pygments_lexer": "ipython3",
   "version": "3.7.3"
  }
 },
 "nbformat": 4,
 "nbformat_minor": 2
}
