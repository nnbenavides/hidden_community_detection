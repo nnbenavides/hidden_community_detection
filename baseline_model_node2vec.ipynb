{
 "cells": [
  {
   "cell_type": "code",
   "execution_count": 1,
   "metadata": {
    "collapsed": true
   },
   "outputs": [],
   "source": [
    "import pandas as pd\n",
    "import numpy as np\n",
    "from sklearn.model_selection import train_test_split\n",
    "import math\n",
    "from sklearn.linear_model import LinearRegression\n",
    "from sklearn.metrics import mean_squared_error, r2_score, mean_absolute_error"
   ]
  },
  {
   "cell_type": "code",
   "execution_count": 2,
   "metadata": {
    "collapsed": true
   },
   "outputs": [],
   "source": [
    "# load dataset\n",
    "data = pd.read_csv('data/node2vec_basic_dataset_weighted.csv', index_col = 0)"
   ]
  },
  {
   "cell_type": "code",
   "execution_count": 10,
   "metadata": {
    "collapsed": true
   },
   "outputs": [],
   "source": [
    "# drop outliers - has significant affect on linear regression results\n",
    "q = data[\"label\"].quantile(0.99)\n",
    "data = data[data[\"label\"] < q]"
   ]
  },
  {
   "cell_type": "code",
   "execution_count": 11,
   "metadata": {},
   "outputs": [
    {
     "data": {
      "text/html": [
       "<div>\n",
       "<style scoped>\n",
       "    .dataframe tbody tr th:only-of-type {\n",
       "        vertical-align: middle;\n",
       "    }\n",
       "\n",
       "    .dataframe tbody tr th {\n",
       "        vertical-align: top;\n",
       "    }\n",
       "\n",
       "    .dataframe thead th {\n",
       "        text-align: right;\n",
       "    }\n",
       "</style>\n",
       "<table border=\"1\" class=\"dataframe\">\n",
       "  <thead>\n",
       "    <tr style=\"text-align: right;\">\n",
       "      <th></th>\n",
       "      <th>src0</th>\n",
       "      <th>src1</th>\n",
       "      <th>src2</th>\n",
       "      <th>src3</th>\n",
       "      <th>src4</th>\n",
       "      <th>src5</th>\n",
       "      <th>src6</th>\n",
       "      <th>src7</th>\n",
       "      <th>src8</th>\n",
       "      <th>src9</th>\n",
       "      <th>...</th>\n",
       "      <th>dst54</th>\n",
       "      <th>dst55</th>\n",
       "      <th>dst56</th>\n",
       "      <th>dst57</th>\n",
       "      <th>dst58</th>\n",
       "      <th>dst59</th>\n",
       "      <th>dst60</th>\n",
       "      <th>dst61</th>\n",
       "      <th>dst62</th>\n",
       "      <th>dst63</th>\n",
       "    </tr>\n",
       "  </thead>\n",
       "  <tbody>\n",
       "    <tr>\n",
       "      <th>357869</th>\n",
       "      <td>0.353947</td>\n",
       "      <td>0.045458</td>\n",
       "      <td>-0.863391</td>\n",
       "      <td>0.015540</td>\n",
       "      <td>2.039922</td>\n",
       "      <td>-0.788093</td>\n",
       "      <td>0.393259</td>\n",
       "      <td>-0.169335</td>\n",
       "      <td>0.158642</td>\n",
       "      <td>0.352419</td>\n",
       "      <td>...</td>\n",
       "      <td>-0.896955</td>\n",
       "      <td>-0.567042</td>\n",
       "      <td>0.117213</td>\n",
       "      <td>-1.085843</td>\n",
       "      <td>-0.651343</td>\n",
       "      <td>-0.832470</td>\n",
       "      <td>-0.041895</td>\n",
       "      <td>-0.109675</td>\n",
       "      <td>0.464498</td>\n",
       "      <td>0.154978</td>\n",
       "    </tr>\n",
       "    <tr>\n",
       "      <th>205507</th>\n",
       "      <td>0.372998</td>\n",
       "      <td>0.820999</td>\n",
       "      <td>-2.747492</td>\n",
       "      <td>-4.149252</td>\n",
       "      <td>-0.683670</td>\n",
       "      <td>0.234671</td>\n",
       "      <td>2.430070</td>\n",
       "      <td>0.360904</td>\n",
       "      <td>-1.105515</td>\n",
       "      <td>2.928489</td>\n",
       "      <td>...</td>\n",
       "      <td>-5.370278</td>\n",
       "      <td>1.280953</td>\n",
       "      <td>0.094613</td>\n",
       "      <td>3.313851</td>\n",
       "      <td>-3.311223</td>\n",
       "      <td>-0.392349</td>\n",
       "      <td>2.094127</td>\n",
       "      <td>2.406776</td>\n",
       "      <td>-0.319784</td>\n",
       "      <td>-0.522241</td>\n",
       "    </tr>\n",
       "    <tr>\n",
       "      <th>146631</th>\n",
       "      <td>-0.690670</td>\n",
       "      <td>2.202327</td>\n",
       "      <td>1.972172</td>\n",
       "      <td>-1.561773</td>\n",
       "      <td>-5.092409</td>\n",
       "      <td>-0.775415</td>\n",
       "      <td>2.302926</td>\n",
       "      <td>-3.505743</td>\n",
       "      <td>-2.987507</td>\n",
       "      <td>-1.123894</td>\n",
       "      <td>...</td>\n",
       "      <td>-0.377747</td>\n",
       "      <td>3.494834</td>\n",
       "      <td>1.396146</td>\n",
       "      <td>-0.737980</td>\n",
       "      <td>-0.587583</td>\n",
       "      <td>1.481168</td>\n",
       "      <td>1.932055</td>\n",
       "      <td>3.714919</td>\n",
       "      <td>1.826901</td>\n",
       "      <td>-0.567580</td>\n",
       "    </tr>\n",
       "    <tr>\n",
       "      <th>458367</th>\n",
       "      <td>-0.496807</td>\n",
       "      <td>-0.968589</td>\n",
       "      <td>0.232325</td>\n",
       "      <td>1.935612</td>\n",
       "      <td>2.075796</td>\n",
       "      <td>-1.240723</td>\n",
       "      <td>0.638791</td>\n",
       "      <td>0.020361</td>\n",
       "      <td>1.254244</td>\n",
       "      <td>-0.555374</td>\n",
       "      <td>...</td>\n",
       "      <td>-0.950597</td>\n",
       "      <td>-0.083846</td>\n",
       "      <td>0.586788</td>\n",
       "      <td>-0.215317</td>\n",
       "      <td>0.531944</td>\n",
       "      <td>-0.713144</td>\n",
       "      <td>0.025620</td>\n",
       "      <td>0.675346</td>\n",
       "      <td>0.461003</td>\n",
       "      <td>-0.107559</td>\n",
       "    </tr>\n",
       "    <tr>\n",
       "      <th>361521</th>\n",
       "      <td>-0.324965</td>\n",
       "      <td>-0.968163</td>\n",
       "      <td>-1.380978</td>\n",
       "      <td>0.693898</td>\n",
       "      <td>0.552619</td>\n",
       "      <td>-1.986601</td>\n",
       "      <td>0.275122</td>\n",
       "      <td>0.134651</td>\n",
       "      <td>-0.078765</td>\n",
       "      <td>1.034552</td>\n",
       "      <td>...</td>\n",
       "      <td>-0.926666</td>\n",
       "      <td>-0.183561</td>\n",
       "      <td>1.105045</td>\n",
       "      <td>-0.306646</td>\n",
       "      <td>-0.451525</td>\n",
       "      <td>0.429080</td>\n",
       "      <td>0.210777</td>\n",
       "      <td>-0.454139</td>\n",
       "      <td>0.629716</td>\n",
       "      <td>-0.337949</td>\n",
       "    </tr>\n",
       "    <tr>\n",
       "      <th>618844</th>\n",
       "      <td>-0.748090</td>\n",
       "      <td>-0.417237</td>\n",
       "      <td>-0.609376</td>\n",
       "      <td>1.642442</td>\n",
       "      <td>0.233111</td>\n",
       "      <td>-0.586439</td>\n",
       "      <td>-0.121848</td>\n",
       "      <td>-0.211719</td>\n",
       "      <td>1.441300</td>\n",
       "      <td>-0.353703</td>\n",
       "      <td>...</td>\n",
       "      <td>-0.602379</td>\n",
       "      <td>0.262495</td>\n",
       "      <td>0.605040</td>\n",
       "      <td>-0.176019</td>\n",
       "      <td>-0.303891</td>\n",
       "      <td>-0.101120</td>\n",
       "      <td>0.282546</td>\n",
       "      <td>0.381851</td>\n",
       "      <td>0.109775</td>\n",
       "      <td>-0.045297</td>\n",
       "    </tr>\n",
       "    <tr>\n",
       "      <th>321745</th>\n",
       "      <td>-0.307600</td>\n",
       "      <td>-0.126435</td>\n",
       "      <td>-0.146606</td>\n",
       "      <td>1.302217</td>\n",
       "      <td>0.790816</td>\n",
       "      <td>-0.617441</td>\n",
       "      <td>1.177446</td>\n",
       "      <td>-0.076079</td>\n",
       "      <td>1.483339</td>\n",
       "      <td>0.908127</td>\n",
       "      <td>...</td>\n",
       "      <td>0.075993</td>\n",
       "      <td>-0.719784</td>\n",
       "      <td>-0.490450</td>\n",
       "      <td>-0.364203</td>\n",
       "      <td>-0.450459</td>\n",
       "      <td>-0.201075</td>\n",
       "      <td>0.113033</td>\n",
       "      <td>0.349342</td>\n",
       "      <td>0.357567</td>\n",
       "      <td>-0.569648</td>\n",
       "    </tr>\n",
       "    <tr>\n",
       "      <th>593774</th>\n",
       "      <td>-0.634269</td>\n",
       "      <td>0.087062</td>\n",
       "      <td>-0.513776</td>\n",
       "      <td>0.571317</td>\n",
       "      <td>0.511587</td>\n",
       "      <td>-0.414295</td>\n",
       "      <td>0.173243</td>\n",
       "      <td>-0.093609</td>\n",
       "      <td>-0.885778</td>\n",
       "      <td>0.548452</td>\n",
       "      <td>...</td>\n",
       "      <td>0.200027</td>\n",
       "      <td>-2.691760</td>\n",
       "      <td>1.139984</td>\n",
       "      <td>-1.165509</td>\n",
       "      <td>-0.540855</td>\n",
       "      <td>0.636551</td>\n",
       "      <td>0.696925</td>\n",
       "      <td>0.002045</td>\n",
       "      <td>1.211630</td>\n",
       "      <td>-0.312936</td>\n",
       "    </tr>\n",
       "    <tr>\n",
       "      <th>164238</th>\n",
       "      <td>0.080761</td>\n",
       "      <td>-5.890927</td>\n",
       "      <td>-2.979596</td>\n",
       "      <td>-3.772892</td>\n",
       "      <td>0.882317</td>\n",
       "      <td>3.409544</td>\n",
       "      <td>-2.441024</td>\n",
       "      <td>4.300789</td>\n",
       "      <td>-2.128590</td>\n",
       "      <td>-5.122968</td>\n",
       "      <td>...</td>\n",
       "      <td>0.258591</td>\n",
       "      <td>-0.088224</td>\n",
       "      <td>0.157203</td>\n",
       "      <td>0.340123</td>\n",
       "      <td>-0.720626</td>\n",
       "      <td>0.107826</td>\n",
       "      <td>-0.300277</td>\n",
       "      <td>0.366346</td>\n",
       "      <td>0.098355</td>\n",
       "      <td>-0.074430</td>\n",
       "    </tr>\n",
       "    <tr>\n",
       "      <th>215755</th>\n",
       "      <td>0.976661</td>\n",
       "      <td>1.356050</td>\n",
       "      <td>0.343535</td>\n",
       "      <td>-0.943591</td>\n",
       "      <td>3.725766</td>\n",
       "      <td>2.001515</td>\n",
       "      <td>3.039148</td>\n",
       "      <td>-3.155875</td>\n",
       "      <td>-1.053759</td>\n",
       "      <td>0.590571</td>\n",
       "      <td>...</td>\n",
       "      <td>-0.368315</td>\n",
       "      <td>-0.428269</td>\n",
       "      <td>-2.323730</td>\n",
       "      <td>2.031532</td>\n",
       "      <td>-2.541317</td>\n",
       "      <td>0.706544</td>\n",
       "      <td>0.098949</td>\n",
       "      <td>0.049183</td>\n",
       "      <td>1.426595</td>\n",
       "      <td>-4.156734</td>\n",
       "    </tr>\n",
       "  </tbody>\n",
       "</table>\n",
       "<p>10 rows × 128 columns</p>\n",
       "</div>"
      ],
      "text/plain": [
       "            src0      src1      src2      src3      src4      src5      src6  \\\n",
       "357869  0.353947  0.045458 -0.863391  0.015540  2.039922 -0.788093  0.393259   \n",
       "205507  0.372998  0.820999 -2.747492 -4.149252 -0.683670  0.234671  2.430070   \n",
       "146631 -0.690670  2.202327  1.972172 -1.561773 -5.092409 -0.775415  2.302926   \n",
       "458367 -0.496807 -0.968589  0.232325  1.935612  2.075796 -1.240723  0.638791   \n",
       "361521 -0.324965 -0.968163 -1.380978  0.693898  0.552619 -1.986601  0.275122   \n",
       "618844 -0.748090 -0.417237 -0.609376  1.642442  0.233111 -0.586439 -0.121848   \n",
       "321745 -0.307600 -0.126435 -0.146606  1.302217  0.790816 -0.617441  1.177446   \n",
       "593774 -0.634269  0.087062 -0.513776  0.571317  0.511587 -0.414295  0.173243   \n",
       "164238  0.080761 -5.890927 -2.979596 -3.772892  0.882317  3.409544 -2.441024   \n",
       "215755  0.976661  1.356050  0.343535 -0.943591  3.725766  2.001515  3.039148   \n",
       "\n",
       "            src7      src8      src9  ...     dst54     dst55     dst56  \\\n",
       "357869 -0.169335  0.158642  0.352419  ... -0.896955 -0.567042  0.117213   \n",
       "205507  0.360904 -1.105515  2.928489  ... -5.370278  1.280953  0.094613   \n",
       "146631 -3.505743 -2.987507 -1.123894  ... -0.377747  3.494834  1.396146   \n",
       "458367  0.020361  1.254244 -0.555374  ... -0.950597 -0.083846  0.586788   \n",
       "361521  0.134651 -0.078765  1.034552  ... -0.926666 -0.183561  1.105045   \n",
       "618844 -0.211719  1.441300 -0.353703  ... -0.602379  0.262495  0.605040   \n",
       "321745 -0.076079  1.483339  0.908127  ...  0.075993 -0.719784 -0.490450   \n",
       "593774 -0.093609 -0.885778  0.548452  ...  0.200027 -2.691760  1.139984   \n",
       "164238  4.300789 -2.128590 -5.122968  ...  0.258591 -0.088224  0.157203   \n",
       "215755 -3.155875 -1.053759  0.590571  ... -0.368315 -0.428269 -2.323730   \n",
       "\n",
       "           dst57     dst58     dst59     dst60     dst61     dst62     dst63  \n",
       "357869 -1.085843 -0.651343 -0.832470 -0.041895 -0.109675  0.464498  0.154978  \n",
       "205507  3.313851 -3.311223 -0.392349  2.094127  2.406776 -0.319784 -0.522241  \n",
       "146631 -0.737980 -0.587583  1.481168  1.932055  3.714919  1.826901 -0.567580  \n",
       "458367 -0.215317  0.531944 -0.713144  0.025620  0.675346  0.461003 -0.107559  \n",
       "361521 -0.306646 -0.451525  0.429080  0.210777 -0.454139  0.629716 -0.337949  \n",
       "618844 -0.176019 -0.303891 -0.101120  0.282546  0.381851  0.109775 -0.045297  \n",
       "321745 -0.364203 -0.450459 -0.201075  0.113033  0.349342  0.357567 -0.569648  \n",
       "593774 -1.165509 -0.540855  0.636551  0.696925  0.002045  1.211630 -0.312936  \n",
       "164238  0.340123 -0.720626  0.107826 -0.300277  0.366346  0.098355 -0.074430  \n",
       "215755  2.031532 -2.541317  0.706544  0.098949  0.049183  1.426595 -4.156734  \n",
       "\n",
       "[10 rows x 128 columns]"
      ]
     },
     "execution_count": 11,
     "metadata": {},
     "output_type": "execute_result"
    }
   ],
   "source": [
    "X = data.copy()\n",
    "X = X.drop(['label'], axis = 1)\n",
    "X.sample(10)"
   ]
  },
  {
   "cell_type": "code",
   "execution_count": 12,
   "metadata": {},
   "outputs": [
    {
     "data": {
      "text/plain": [
       "276670    1\n",
       "441364    0\n",
       "331683    0\n",
       "594282    0\n",
       "399266    0\n",
       "388055    0\n",
       "59812     1\n",
       "511788    0\n",
       "434761    0\n",
       "348018    0\n",
       "Name: label, dtype: int64"
      ]
     },
     "execution_count": 12,
     "metadata": {},
     "output_type": "execute_result"
    }
   ],
   "source": [
    "y = data['label']\n",
    "y.sample(10)"
   ]
  },
  {
   "cell_type": "code",
   "execution_count": 13,
   "metadata": {},
   "outputs": [
    {
     "name": "stdout",
     "output_type": "stream",
     "text": [
      "(551708, 128)\n",
      "(551708,)\n",
      "(61301, 128)\n",
      "(61301,)\n"
     ]
    }
   ],
   "source": [
    "# 90/10 train-test split\n",
    "X_train, X_test, y_train, y_test = train_test_split(X, y, test_size=0.10, random_state=42)\n",
    "\n",
    "print(X_train.shape)\n",
    "print(y_train.shape)\n",
    "print(X_test.shape)\n",
    "print(y_test.shape)"
   ]
  },
  {
   "cell_type": "code",
   "execution_count": 14,
   "metadata": {},
   "outputs": [
    {
     "data": {
      "text/plain": [
       "LinearRegression(copy_X=True, fit_intercept=True, n_jobs=None, normalize=True)"
      ]
     },
     "execution_count": 14,
     "metadata": {},
     "output_type": "execute_result"
    }
   ],
   "source": [
    "linreg = LinearRegression(normalize = True)\n",
    "linreg.fit(X_train, y_train)"
   ]
  },
  {
   "cell_type": "code",
   "execution_count": 15,
   "metadata": {},
   "outputs": [
    {
     "name": "stdout",
     "output_type": "stream",
     "text": [
      "Mean squared error: 1.0851\n",
      "Mean absolute error: 0.4519\n",
      "R^2: 0.2851\n"
     ]
    }
   ],
   "source": [
    "y_train_pred = linreg.predict(X_train)\n",
    "y_train_pred = [max(int(round(x)), 0) for x in y_train_pred]\n",
    "print(\"Mean squared error: %.4f\" % mean_squared_error(y_train, y_train_pred))\n",
    "print(\"Mean absolute error: %.4f\" % mean_absolute_error(y_train, y_train_pred))\n",
    "print('R^2: %.4f' % r2_score(y_train, y_train_pred))"
   ]
  },
  {
   "cell_type": "code",
   "execution_count": 16,
   "metadata": {},
   "outputs": [
    {
     "name": "stdout",
     "output_type": "stream",
     "text": [
      "Mean squared error: 1.0770\n",
      "Mean absolute error: 0.4497\n",
      "R^2: 0.2881\n"
     ]
    }
   ],
   "source": [
    "y_test_pred = linreg.predict(X_test)\n",
    "y_test_pred = [max(int(round(x)), 0) for x in y_test_pred]\n",
    "print(\"Mean squared error: %.4f\" % mean_squared_error(y_test, y_test_pred))\n",
    "print(\"Mean absolute error: %.4f\" % mean_absolute_error(y_test, y_test_pred))\n",
    "print('R^2: %.4f' % r2_score(y_test, y_test_pred))"
   ]
  },
  {
   "cell_type": "code",
   "execution_count": 231,
   "metadata": {
    "collapsed": true
   },
   "outputs": [],
   "source": [
    "def load_inference_data(filename, n_examples):\n",
    "    inference_data = pd.read_csv(filename, index_col = 0)\n",
    "    inference_data = inference_data.sample(n_examples)\n",
    "    inference_node_pairs = inference_data[['src_id', 'dst_id']]\n",
    "    inference_features = inference_data.copy()\n",
    "    inference_features.drop(['src_id', 'dst_id'], axis = 1, inplace = True)\n",
    "    return inference_node_pairs, inference_features"
   ]
  },
  {
   "cell_type": "code",
   "execution_count": 236,
   "metadata": {
    "collapsed": true
   },
   "outputs": [],
   "source": [
    "# load inference dataset\n",
    "inference_node_pairs, inference_features = load_inference_data('data/rolx_inference_weighted.csv', 200000)"
   ]
  },
  {
   "cell_type": "code",
   "execution_count": 239,
   "metadata": {},
   "outputs": [
    {
     "name": "stdout",
     "output_type": "stream",
     "text": [
      "62618\n"
     ]
    }
   ],
   "source": [
    "inference_preds = linreg.predict(inference_features)\n",
    "inference_preds = [max(int(round(x)), 0) for x in inference_preds]\n",
    "print(np.count_nonzero(inference_preds))"
   ]
  },
  {
   "cell_type": "code",
   "execution_count": 240,
   "metadata": {
    "collapsed": true
   },
   "outputs": [],
   "source": [
    "def output_new_edges(inference_preds, inference_node_pairs, model_type, embedding_type):\n",
    "    filename = 'data/' + model_type + '_' + embedding_type + '_edges_to_add.csv'\n",
    "    with open(filename, 'w') as out_file:\n",
    "        for i, pred in enumerate(inference_preds):\n",
    "            if pred > 0:\n",
    "                src = inference_node_pairs.iloc[i, 0]\n",
    "                dst = inference_node_pairs.iloc[i, 1]\n",
    "                weight = pred\n",
    "                line = str(src) + ', ' + str(dst) + ', ' + str(weight) + '\\n'\n",
    "                out_file.write(line)"
   ]
  },
  {
   "cell_type": "code",
   "execution_count": 241,
   "metadata": {
    "collapsed": true
   },
   "outputs": [],
   "source": [
    "output_new_edges(inference_preds, inference_node_pairs, 'linreg', 'rolx')"
   ]
  }
 ],
 "metadata": {
  "kernelspec": {
   "display_name": "224env",
   "language": "python",
   "name": "224env"
  },
  "language_info": {
   "codemirror_mode": {
    "name": "ipython",
    "version": 3
   },
   "file_extension": ".py",
   "mimetype": "text/x-python",
   "name": "python",
   "nbconvert_exporter": "python",
   "pygments_lexer": "ipython3",
   "version": "3.7.3"
  }
 },
 "nbformat": 4,
 "nbformat_minor": 2
}
