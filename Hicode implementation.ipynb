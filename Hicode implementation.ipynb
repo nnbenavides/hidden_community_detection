{
 "cells": [
  {
   "cell_type": "code",
   "execution_count": null,
   "metadata": {},
   "outputs": [],
   "source": [
    "import pandas as pd\n",
    "import numpy as np\n",
    "import snap\n"
   ]
  },
  {
   "cell_type": "code",
   "execution_count": null,
   "metadata": {},
   "outputs": [],
   "source": [
    "#Identification\n",
    "\"\"\"\n",
    "(1) Identify a layer of communities via the base method;\n",
    "(2) Weaken the structure of the detected layer;\n",
    "(3) Repeat until the appropriate number of layers are found\n",
    "\"\"\"\n",
    "\n",
    "def indentifyLayer(graph):\n",
    "    #Use base algorithm to divide graph into communities\n",
    "    pass\n",
    "\n",
    "def removeEdge(graph,layer):\n",
    "    #Take layer, a division of graph into communities, and \n",
    "    #weaken the communities within graph by removing the edges\n",
    "    #in that layer completely\n",
    "    relaxed_graph = graph\n",
    "    for community in layer:\n",
    "        for edge in community:\n",
    "            SrcNId, DstNId = edge\n",
    "            relaxed_graph.DelEdge(SrcNId, DstNId)\n",
    "    return relaxed_graph\n",
    "\n",
    "def reduceWeight(graph,layer):\n",
    "    \"\"\"\n",
    "    Take layer, a division of graph into communities, and \n",
    "    weaken the communities within graph by reducing the \n",
    "    weight of each edge within community C_k by a factor of\n",
    "    q'k = p_k/q_k\n",
    "    q_k = (d_k - 2e_kk)/(n_k(n-n_k)\n",
    "    p_k = e_kk/(0.5n_k*(n_k-1))\n",
    "    Where p_k is the observed edge probability of Community C_k\n",
    "    q_k is the background block probability\n",
    "    n_k is the number of nodes in C_k\n",
    "    d_k is the sum of degrees of nodes in C_k\n",
    "    e_kk is the number of edges in C_k\n",
    "    n is the total number of nodes in graph\n",
    "    \"\"\"\n",
    "    pass"
   ]
  },
  {
   "cell_type": "code",
   "execution_count": null,
   "metadata": {},
   "outputs": [],
   "source": [
    "#Refinement\n",
    "\"\"\"\n",
    "(1) Weaken the structures of all other layers from the original\n",
    "network to obtain a reduced network;\n",
    "(2) Apply the base algorithm to the resulting network.\n",
    "\"\"\"\n"
   ]
  }
 ],
 "metadata": {
  "kernelspec": {
   "display_name": "Python [conda env:cs224] *",
   "language": "python",
   "name": "conda-env-cs224-py"
  },
  "language_info": {
   "codemirror_mode": {
    "name": "ipython",
    "version": 3
   },
   "file_extension": ".py",
   "mimetype": "text/x-python",
   "name": "python",
   "nbconvert_exporter": "python",
   "pygments_lexer": "ipython3",
   "version": "3.7.4"
  }
 },
 "nbformat": 4,
 "nbformat_minor": 2
}
