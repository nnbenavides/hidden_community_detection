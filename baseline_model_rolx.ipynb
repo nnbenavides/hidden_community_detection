{
 "cells": [
  {
   "cell_type": "code",
   "execution_count": 2,
   "metadata": {
    "collapsed": true
   },
   "outputs": [],
   "source": [
    "import pandas as pd\n",
    "import numpy as np\n",
    "from sklearn.model_selection import train_test_split\n",
    "import math\n",
    "from sklearn.linear_model import LinearRegression\n",
    "from sklearn.metrics import mean_squared_error, r2_score, mean_absolute_error"
   ]
  },
  {
   "cell_type": "code",
   "execution_count": 3,
   "metadata": {
    "collapsed": true
   },
   "outputs": [],
   "source": [
    "# load dataset\n",
    "data = pd.read_csv('data/rolx_dataset_weighted.csv', index_col = 0)"
   ]
  },
  {
   "cell_type": "code",
   "execution_count": 4,
   "metadata": {},
   "outputs": [],
   "source": [
    "# drop outliers - has significant affect on linear regression results\n",
    "q = data[\"label\"].quantile(0.99)\n",
    "data = data[data[\"label\"] < q]"
   ]
  },
  {
   "cell_type": "code",
   "execution_count": 5,
   "metadata": {},
   "outputs": [
    {
     "data": {
      "text/html": [
       "<div>\n",
       "<style scoped>\n",
       "    .dataframe tbody tr th:only-of-type {\n",
       "        vertical-align: middle;\n",
       "    }\n",
       "\n",
       "    .dataframe tbody tr th {\n",
       "        vertical-align: top;\n",
       "    }\n",
       "\n",
       "    .dataframe thead th {\n",
       "        text-align: right;\n",
       "    }\n",
       "</style>\n",
       "<table border=\"1\" class=\"dataframe\">\n",
       "  <thead>\n",
       "    <tr style=\"text-align: right;\">\n",
       "      <th></th>\n",
       "      <th>src0</th>\n",
       "      <th>src1</th>\n",
       "      <th>src2</th>\n",
       "      <th>src3</th>\n",
       "      <th>src4</th>\n",
       "      <th>src5</th>\n",
       "      <th>src6</th>\n",
       "      <th>src7</th>\n",
       "      <th>src8</th>\n",
       "      <th>src9</th>\n",
       "      <th>...</th>\n",
       "      <th>dst86</th>\n",
       "      <th>dst87</th>\n",
       "      <th>dst88</th>\n",
       "      <th>dst89</th>\n",
       "      <th>dst90</th>\n",
       "      <th>dst91</th>\n",
       "      <th>dst92</th>\n",
       "      <th>dst93</th>\n",
       "      <th>dst94</th>\n",
       "      <th>dst95</th>\n",
       "    </tr>\n",
       "  </thead>\n",
       "  <tbody>\n",
       "    <tr>\n",
       "      <th>483374</th>\n",
       "      <td>1.0</td>\n",
       "      <td>1.0</td>\n",
       "      <td>1.0</td>\n",
       "      <td>1.0</td>\n",
       "      <td>17.0</td>\n",
       "      <td>23.0</td>\n",
       "      <td>18.000000</td>\n",
       "      <td>24.000000</td>\n",
       "      <td>38.000000</td>\n",
       "      <td>94.000000</td>\n",
       "      <td>...</td>\n",
       "      <td>703743.0</td>\n",
       "      <td>2698113.0</td>\n",
       "      <td>2153333.0</td>\n",
       "      <td>4602628.0</td>\n",
       "      <td>5547.0</td>\n",
       "      <td>23350.0</td>\n",
       "      <td>120147.0</td>\n",
       "      <td>345094.0</td>\n",
       "      <td>145640.0</td>\n",
       "      <td>281336.0</td>\n",
       "    </tr>\n",
       "    <tr>\n",
       "      <th>260038</th>\n",
       "      <td>130.0</td>\n",
       "      <td>303.0</td>\n",
       "      <td>1883.0</td>\n",
       "      <td>16869.0</td>\n",
       "      <td>67824.0</td>\n",
       "      <td>192299.0</td>\n",
       "      <td>549.692308</td>\n",
       "      <td>1736.415385</td>\n",
       "      <td>14521.061538</td>\n",
       "      <td>63249.700000</td>\n",
       "      <td>...</td>\n",
       "      <td>6853282.0</td>\n",
       "      <td>44151214.0</td>\n",
       "      <td>145149413.0</td>\n",
       "      <td>447730576.0</td>\n",
       "      <td>5547.0</td>\n",
       "      <td>23350.0</td>\n",
       "      <td>120147.0</td>\n",
       "      <td>345094.0</td>\n",
       "      <td>162133.0</td>\n",
       "      <td>351372.0</td>\n",
       "    </tr>\n",
       "    <tr>\n",
       "      <th>164333</th>\n",
       "      <td>339.0</td>\n",
       "      <td>613.0</td>\n",
       "      <td>4417.0</td>\n",
       "      <td>29358.0</td>\n",
       "      <td>72623.0</td>\n",
       "      <td>201223.0</td>\n",
       "      <td>239.286136</td>\n",
       "      <td>764.973451</td>\n",
       "      <td>5955.230088</td>\n",
       "      <td>28465.817109</td>\n",
       "      <td>...</td>\n",
       "      <td>6853282.0</td>\n",
       "      <td>44294540.0</td>\n",
       "      <td>145149413.0</td>\n",
       "      <td>447730576.0</td>\n",
       "      <td>5547.0</td>\n",
       "      <td>23350.0</td>\n",
       "      <td>120147.0</td>\n",
       "      <td>345094.0</td>\n",
       "      <td>162133.0</td>\n",
       "      <td>351372.0</td>\n",
       "    </tr>\n",
       "    <tr>\n",
       "      <th>45949</th>\n",
       "      <td>4601.0</td>\n",
       "      <td>11182.0</td>\n",
       "      <td>102665.0</td>\n",
       "      <td>310542.0</td>\n",
       "      <td>145456.0</td>\n",
       "      <td>257796.0</td>\n",
       "      <td>75.241252</td>\n",
       "      <td>188.589002</td>\n",
       "      <td>1427.821561</td>\n",
       "      <td>8933.609867</td>\n",
       "      <td>...</td>\n",
       "      <td>6817566.0</td>\n",
       "      <td>44294540.0</td>\n",
       "      <td>124978835.0</td>\n",
       "      <td>367510458.0</td>\n",
       "      <td>5547.0</td>\n",
       "      <td>23350.0</td>\n",
       "      <td>120147.0</td>\n",
       "      <td>345094.0</td>\n",
       "      <td>162133.0</td>\n",
       "      <td>351372.0</td>\n",
       "    </tr>\n",
       "    <tr>\n",
       "      <th>156319</th>\n",
       "      <td>11.0</td>\n",
       "      <td>12.0</td>\n",
       "      <td>28.0</td>\n",
       "      <td>83.0</td>\n",
       "      <td>4389.0</td>\n",
       "      <td>10825.0</td>\n",
       "      <td>403.090909</td>\n",
       "      <td>998.090909</td>\n",
       "      <td>8386.181818</td>\n",
       "      <td>37040.272727</td>\n",
       "      <td>...</td>\n",
       "      <td>4724218.0</td>\n",
       "      <td>25338648.0</td>\n",
       "      <td>48861782.0</td>\n",
       "      <td>129472982.0</td>\n",
       "      <td>5547.0</td>\n",
       "      <td>23350.0</td>\n",
       "      <td>120147.0</td>\n",
       "      <td>345094.0</td>\n",
       "      <td>162133.0</td>\n",
       "      <td>351372.0</td>\n",
       "    </tr>\n",
       "    <tr>\n",
       "      <th>112782</th>\n",
       "      <td>907.0</td>\n",
       "      <td>2183.0</td>\n",
       "      <td>18790.0</td>\n",
       "      <td>90321.0</td>\n",
       "      <td>113966.0</td>\n",
       "      <td>267898.0</td>\n",
       "      <td>166.084895</td>\n",
       "      <td>492.124587</td>\n",
       "      <td>3876.971334</td>\n",
       "      <td>19737.265711</td>\n",
       "      <td>...</td>\n",
       "      <td>6817566.0</td>\n",
       "      <td>44294540.0</td>\n",
       "      <td>120648599.0</td>\n",
       "      <td>367510458.0</td>\n",
       "      <td>5547.0</td>\n",
       "      <td>23350.0</td>\n",
       "      <td>120147.0</td>\n",
       "      <td>345094.0</td>\n",
       "      <td>162133.0</td>\n",
       "      <td>351372.0</td>\n",
       "    </tr>\n",
       "    <tr>\n",
       "      <th>29629</th>\n",
       "      <td>5547.0</td>\n",
       "      <td>23350.0</td>\n",
       "      <td>120147.0</td>\n",
       "      <td>345094.0</td>\n",
       "      <td>132390.0</td>\n",
       "      <td>229673.0</td>\n",
       "      <td>66.186587</td>\n",
       "      <td>161.620876</td>\n",
       "      <td>1235.493420</td>\n",
       "      <td>7959.476113</td>\n",
       "      <td>...</td>\n",
       "      <td>6853282.0</td>\n",
       "      <td>44294540.0</td>\n",
       "      <td>145149413.0</td>\n",
       "      <td>447730576.0</td>\n",
       "      <td>5547.0</td>\n",
       "      <td>23350.0</td>\n",
       "      <td>120147.0</td>\n",
       "      <td>345094.0</td>\n",
       "      <td>162133.0</td>\n",
       "      <td>351372.0</td>\n",
       "    </tr>\n",
       "    <tr>\n",
       "      <th>342049</th>\n",
       "      <td>1.0</td>\n",
       "      <td>1.0</td>\n",
       "      <td>1.0</td>\n",
       "      <td>1.0</td>\n",
       "      <td>62.0</td>\n",
       "      <td>63.0</td>\n",
       "      <td>63.000000</td>\n",
       "      <td>64.000000</td>\n",
       "      <td>77.000000</td>\n",
       "      <td>305.000000</td>\n",
       "      <td>...</td>\n",
       "      <td>370.0</td>\n",
       "      <td>3008.0</td>\n",
       "      <td>32695.0</td>\n",
       "      <td>109899.0</td>\n",
       "      <td>56.0</td>\n",
       "      <td>78.0</td>\n",
       "      <td>369.0</td>\n",
       "      <td>3007.0</td>\n",
       "      <td>32694.0</td>\n",
       "      <td>109897.0</td>\n",
       "    </tr>\n",
       "    <tr>\n",
       "      <th>573541</th>\n",
       "      <td>1.0</td>\n",
       "      <td>1.0</td>\n",
       "      <td>1.0</td>\n",
       "      <td>1.0</td>\n",
       "      <td>1.0</td>\n",
       "      <td>2.0</td>\n",
       "      <td>2.000000</td>\n",
       "      <td>3.000000</td>\n",
       "      <td>2.000000</td>\n",
       "      <td>3.000000</td>\n",
       "      <td>...</td>\n",
       "      <td>703743.0</td>\n",
       "      <td>2698113.0</td>\n",
       "      <td>2153333.0</td>\n",
       "      <td>4602628.0</td>\n",
       "      <td>5547.0</td>\n",
       "      <td>23350.0</td>\n",
       "      <td>120147.0</td>\n",
       "      <td>345094.0</td>\n",
       "      <td>145640.0</td>\n",
       "      <td>281336.0</td>\n",
       "    </tr>\n",
       "    <tr>\n",
       "      <th>77653</th>\n",
       "      <td>2483.0</td>\n",
       "      <td>9271.0</td>\n",
       "      <td>69282.0</td>\n",
       "      <td>220269.0</td>\n",
       "      <td>162133.0</td>\n",
       "      <td>318744.0</td>\n",
       "      <td>120.102296</td>\n",
       "      <td>302.058397</td>\n",
       "      <td>2360.316955</td>\n",
       "      <td>14728.894080</td>\n",
       "      <td>...</td>\n",
       "      <td>6817566.0</td>\n",
       "      <td>44294540.0</td>\n",
       "      <td>120648599.0</td>\n",
       "      <td>367510458.0</td>\n",
       "      <td>5547.0</td>\n",
       "      <td>23350.0</td>\n",
       "      <td>120147.0</td>\n",
       "      <td>345094.0</td>\n",
       "      <td>162133.0</td>\n",
       "      <td>351372.0</td>\n",
       "    </tr>\n",
       "  </tbody>\n",
       "</table>\n",
       "<p>10 rows × 192 columns</p>\n",
       "</div>"
      ],
      "text/plain": [
       "          src0     src1      src2      src3      src4      src5        src6  \\\n",
       "483374     1.0      1.0       1.0       1.0      17.0      23.0   18.000000   \n",
       "260038   130.0    303.0    1883.0   16869.0   67824.0  192299.0  549.692308   \n",
       "164333   339.0    613.0    4417.0   29358.0   72623.0  201223.0  239.286136   \n",
       "45949   4601.0  11182.0  102665.0  310542.0  145456.0  257796.0   75.241252   \n",
       "156319    11.0     12.0      28.0      83.0    4389.0   10825.0  403.090909   \n",
       "112782   907.0   2183.0   18790.0   90321.0  113966.0  267898.0  166.084895   \n",
       "29629   5547.0  23350.0  120147.0  345094.0  132390.0  229673.0   66.186587   \n",
       "342049     1.0      1.0       1.0       1.0      62.0      63.0   63.000000   \n",
       "573541     1.0      1.0       1.0       1.0       1.0       2.0    2.000000   \n",
       "77653   2483.0   9271.0   69282.0  220269.0  162133.0  318744.0  120.102296   \n",
       "\n",
       "               src7          src8          src9  ...      dst86       dst87  \\\n",
       "483374    24.000000     38.000000     94.000000  ...   703743.0   2698113.0   \n",
       "260038  1736.415385  14521.061538  63249.700000  ...  6853282.0  44151214.0   \n",
       "164333   764.973451   5955.230088  28465.817109  ...  6853282.0  44294540.0   \n",
       "45949    188.589002   1427.821561   8933.609867  ...  6817566.0  44294540.0   \n",
       "156319   998.090909   8386.181818  37040.272727  ...  4724218.0  25338648.0   \n",
       "112782   492.124587   3876.971334  19737.265711  ...  6817566.0  44294540.0   \n",
       "29629    161.620876   1235.493420   7959.476113  ...  6853282.0  44294540.0   \n",
       "342049    64.000000     77.000000    305.000000  ...      370.0      3008.0   \n",
       "573541     3.000000      2.000000      3.000000  ...   703743.0   2698113.0   \n",
       "77653    302.058397   2360.316955  14728.894080  ...  6817566.0  44294540.0   \n",
       "\n",
       "              dst88        dst89   dst90    dst91     dst92     dst93  \\\n",
       "483374    2153333.0    4602628.0  5547.0  23350.0  120147.0  345094.0   \n",
       "260038  145149413.0  447730576.0  5547.0  23350.0  120147.0  345094.0   \n",
       "164333  145149413.0  447730576.0  5547.0  23350.0  120147.0  345094.0   \n",
       "45949   124978835.0  367510458.0  5547.0  23350.0  120147.0  345094.0   \n",
       "156319   48861782.0  129472982.0  5547.0  23350.0  120147.0  345094.0   \n",
       "112782  120648599.0  367510458.0  5547.0  23350.0  120147.0  345094.0   \n",
       "29629   145149413.0  447730576.0  5547.0  23350.0  120147.0  345094.0   \n",
       "342049      32695.0     109899.0    56.0     78.0     369.0    3007.0   \n",
       "573541    2153333.0    4602628.0  5547.0  23350.0  120147.0  345094.0   \n",
       "77653   120648599.0  367510458.0  5547.0  23350.0  120147.0  345094.0   \n",
       "\n",
       "           dst94     dst95  \n",
       "483374  145640.0  281336.0  \n",
       "260038  162133.0  351372.0  \n",
       "164333  162133.0  351372.0  \n",
       "45949   162133.0  351372.0  \n",
       "156319  162133.0  351372.0  \n",
       "112782  162133.0  351372.0  \n",
       "29629   162133.0  351372.0  \n",
       "342049   32694.0  109897.0  \n",
       "573541  145640.0  281336.0  \n",
       "77653   162133.0  351372.0  \n",
       "\n",
       "[10 rows x 192 columns]"
      ]
     },
     "execution_count": 5,
     "metadata": {},
     "output_type": "execute_result"
    }
   ],
   "source": [
    "X = data.copy()\n",
    "X = X.drop(['label'], axis = 1)\n",
    "X.sample(10)"
   ]
  },
  {
   "cell_type": "code",
   "execution_count": 6,
   "metadata": {},
   "outputs": [
    {
     "data": {
      "text/plain": [
       "83989     5\n",
       "443410    0\n",
       "100581    1\n",
       "230731    1\n",
       "615982    0\n",
       "580794    0\n",
       "24395     1\n",
       "69141     1\n",
       "120717    2\n",
       "117515    1\n",
       "Name: label, dtype: int64"
      ]
     },
     "execution_count": 6,
     "metadata": {},
     "output_type": "execute_result"
    }
   ],
   "source": [
    "y = data['label']\n",
    "y.sample(10)"
   ]
  },
  {
   "cell_type": "code",
   "execution_count": 7,
   "metadata": {},
   "outputs": [
    {
     "name": "stdout",
     "output_type": "stream",
     "text": [
      "(551708, 192)\n",
      "(551708,)\n",
      "(61301, 192)\n",
      "(61301,)\n"
     ]
    }
   ],
   "source": [
    "# 90/10 train-test split\n",
    "X_train, X_test, y_train, y_test = train_test_split(X, y, test_size=0.10, random_state=42)\n",
    "\n",
    "print(X_train.shape)\n",
    "print(y_train.shape)\n",
    "print(X_test.shape)\n",
    "print(y_test.shape)"
   ]
  },
  {
   "cell_type": "code",
   "execution_count": 8,
   "metadata": {},
   "outputs": [
    {
     "data": {
      "text/plain": [
       "LinearRegression(copy_X=True, fit_intercept=True, n_jobs=None, normalize=True)"
      ]
     },
     "execution_count": 8,
     "metadata": {},
     "output_type": "execute_result"
    }
   ],
   "source": [
    "linreg = LinearRegression(normalize = True)\n",
    "linreg.fit(X_train, y_train)"
   ]
  },
  {
   "cell_type": "code",
   "execution_count": 9,
   "metadata": {},
   "outputs": [
    {
     "name": "stdout",
     "output_type": "stream",
     "text": [
      "RMSE: 0.9707\n",
      "Mean absolute error: 0.3575\n",
      "R^2: 0.3793\n"
     ]
    }
   ],
   "source": [
    "y_train_pred = linreg.predict(X_train)\n",
    "y_train_pred = [max(int(round(x)), 0) for x in y_train_pred]\n",
    "print(\"RMSE: %.4f\" % math.sqrt(mean_squared_error(y_train, y_train_pred)))\n",
    "print(\"Mean absolute error: %.4f\" % mean_absolute_error(y_train, y_train_pred))\n",
    "print('R^2: %.4f' % r2_score(y_train, y_train_pred))"
   ]
  },
  {
   "cell_type": "code",
   "execution_count": 10,
   "metadata": {},
   "outputs": [
    {
     "name": "stdout",
     "output_type": "stream",
     "text": [
      "RMSE: 0.9671\n",
      "Mean absolute error: 0.3563\n",
      "R^2: 0.3817\n"
     ]
    }
   ],
   "source": [
    "y_test_pred = linreg.predict(X_test)\n",
    "y_test_pred = [max(int(round(x)), 0) for x in y_test_pred]\n",
    "print(\"RMSE: %.4f\" % math.sqrt(mean_squared_error(y_test, y_test_pred)))\n",
    "print(\"Mean absolute error: %.4f\" % mean_absolute_error(y_test, y_test_pred))\n",
    "print('R^2: %.4f' % r2_score(y_test, y_test_pred))"
   ]
  },
  {
   "cell_type": "code",
   "execution_count": null,
   "metadata": {
    "collapsed": true
   },
   "outputs": [],
   "source": [
    "def load_inference_data(filename, n_examples):\n",
    "    inference_data = pd.read_csv(filename, index_col = 0)\n",
    "    inference_data = inference_data.sample(n_examples)\n",
    "    inference_node_pairs = inference_data[['src_id', 'dst_id']]\n",
    "    inference_features = inference_data.copy()\n",
    "    inference_features.drop(['src_id', 'dst_id'], axis = 1, inplace = True)\n",
    "    return inference_node_pairs, inference_features"
   ]
  },
  {
   "cell_type": "code",
   "execution_count": null,
   "metadata": {
    "collapsed": true
   },
   "outputs": [],
   "source": [
    "# load inference dataset\n",
    "inference_node_pairs, inference_features = load_inference_data('data/rolx_inference_weighted.csv', 200000)"
   ]
  },
  {
   "cell_type": "code",
   "execution_count": null,
   "metadata": {},
   "outputs": [],
   "source": [
    "inference_preds = linreg.predict(inference_features)\n",
    "inference_preds = [max(int(round(x)), 0) for x in inference_preds]\n",
    "print(np.count_nonzero(inference_preds))"
   ]
  },
  {
   "cell_type": "code",
   "execution_count": null,
   "metadata": {
    "collapsed": true
   },
   "outputs": [],
   "source": [
    "def output_new_edges(inference_preds, inference_node_pairs, model_type, embedding_type):\n",
    "    filename = 'data/' + model_type + '_' + embedding_type + '_edges_to_add.csv'\n",
    "    with open(filename, 'w') as out_file:\n",
    "        for i, pred in enumerate(inference_preds):\n",
    "            if pred > 0:\n",
    "                src = inference_node_pairs.iloc[i, 0]\n",
    "                dst = inference_node_pairs.iloc[i, 1]\n",
    "                weight = pred\n",
    "                line = str(src) + ', ' + str(dst) + ', ' + str(weight) + '\\n'\n",
    "                out_file.write(line)"
   ]
  },
  {
   "cell_type": "code",
   "execution_count": null,
   "metadata": {
    "collapsed": true
   },
   "outputs": [],
   "source": [
    "output_new_edges(inference_preds, inference_node_pairs, 'linreg', 'rolx')"
   ]
  }
 ],
 "metadata": {
  "kernelspec": {
   "display_name": "224env",
   "language": "python",
   "name": "224env"
  }
 },
 "nbformat": 4,
 "nbformat_minor": 2
}
