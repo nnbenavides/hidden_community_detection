{
 "cells": [
  {
   "cell_type": "code",
   "execution_count": 201,
   "metadata": {
    "collapsed": true
   },
   "outputs": [],
   "source": [
    "import pandas as pd\n",
    "import numpy as np\n",
    "from sklearn.model_selection import train_test_split\n",
    "import math\n",
    "from sklearn.linear_model import LinearRegression\n",
    "from sklearn.metrics import mean_squared_error, r2_score, mean_absolute_error"
   ]
  },
  {
   "cell_type": "code",
   "execution_count": 196,
   "metadata": {
    "collapsed": true
   },
   "outputs": [],
   "source": [
    "# load dataset\n",
    "data = pd.read_csv('data/rolx_dataset_weighted.csv', index_col = 0)"
   ]
  },
  {
   "cell_type": "code",
   "execution_count": 197,
   "metadata": {},
   "outputs": [],
   "source": [
    "# drop outliers - has significant affect on linear regression results\n",
    "q = data[\"label\"].quantile(0.99)\n",
    "data = data[data[\"label\"] < q]"
   ]
  },
  {
   "cell_type": "code",
   "execution_count": 198,
   "metadata": {},
   "outputs": [
    {
     "data": {
      "text/html": [
       "<div>\n",
       "<style scoped>\n",
       "    .dataframe tbody tr th:only-of-type {\n",
       "        vertical-align: middle;\n",
       "    }\n",
       "\n",
       "    .dataframe tbody tr th {\n",
       "        vertical-align: top;\n",
       "    }\n",
       "\n",
       "    .dataframe thead th {\n",
       "        text-align: right;\n",
       "    }\n",
       "</style>\n",
       "<table border=\"1\" class=\"dataframe\">\n",
       "  <thead>\n",
       "    <tr style=\"text-align: right;\">\n",
       "      <th></th>\n",
       "      <th>src0</th>\n",
       "      <th>src1</th>\n",
       "      <th>src2</th>\n",
       "      <th>src3</th>\n",
       "      <th>src4</th>\n",
       "      <th>src5</th>\n",
       "      <th>src6</th>\n",
       "      <th>src7</th>\n",
       "      <th>src8</th>\n",
       "      <th>src9</th>\n",
       "      <th>...</th>\n",
       "      <th>dst86</th>\n",
       "      <th>dst87</th>\n",
       "      <th>dst88</th>\n",
       "      <th>dst89</th>\n",
       "      <th>dst90</th>\n",
       "      <th>dst91</th>\n",
       "      <th>dst92</th>\n",
       "      <th>dst93</th>\n",
       "      <th>dst94</th>\n",
       "      <th>dst95</th>\n",
       "    </tr>\n",
       "  </thead>\n",
       "  <tbody>\n",
       "    <tr>\n",
       "      <th>305467</th>\n",
       "      <td>18.0</td>\n",
       "      <td>19.0</td>\n",
       "      <td>43.0</td>\n",
       "      <td>107.0</td>\n",
       "      <td>7351.0</td>\n",
       "      <td>20510.0</td>\n",
       "      <td>412.166667</td>\n",
       "      <td>1150.277778</td>\n",
       "      <td>9336.055556</td>\n",
       "      <td>43754.388889</td>\n",
       "      <td>...</td>\n",
       "      <td>6817566.0</td>\n",
       "      <td>44294540.0</td>\n",
       "      <td>120648599.0</td>\n",
       "      <td>367510458.0</td>\n",
       "      <td>5547.0</td>\n",
       "      <td>23350.0</td>\n",
       "      <td>120147.0</td>\n",
       "      <td>345094.0</td>\n",
       "      <td>162133.0</td>\n",
       "      <td>351372.0</td>\n",
       "    </tr>\n",
       "    <tr>\n",
       "      <th>519305</th>\n",
       "      <td>1.0</td>\n",
       "      <td>1.0</td>\n",
       "      <td>1.0</td>\n",
       "      <td>1.0</td>\n",
       "      <td>3.0</td>\n",
       "      <td>3.0</td>\n",
       "      <td>4.000000</td>\n",
       "      <td>4.000000</td>\n",
       "      <td>4.000000</td>\n",
       "      <td>4.000000</td>\n",
       "      <td>...</td>\n",
       "      <td>619641.0</td>\n",
       "      <td>2367269.0</td>\n",
       "      <td>2406765.0</td>\n",
       "      <td>5566465.0</td>\n",
       "      <td>5547.0</td>\n",
       "      <td>23350.0</td>\n",
       "      <td>120147.0</td>\n",
       "      <td>345094.0</td>\n",
       "      <td>162133.0</td>\n",
       "      <td>318744.0</td>\n",
       "    </tr>\n",
       "    <tr>\n",
       "      <th>455611</th>\n",
       "      <td>1.0</td>\n",
       "      <td>1.0</td>\n",
       "      <td>1.0</td>\n",
       "      <td>1.0</td>\n",
       "      <td>32.0</td>\n",
       "      <td>36.0</td>\n",
       "      <td>33.000000</td>\n",
       "      <td>37.000000</td>\n",
       "      <td>124.000000</td>\n",
       "      <td>547.000000</td>\n",
       "      <td>...</td>\n",
       "      <td>124877.0</td>\n",
       "      <td>545463.0</td>\n",
       "      <td>1001044.0</td>\n",
       "      <td>2620221.0</td>\n",
       "      <td>2483.0</td>\n",
       "      <td>9271.0</td>\n",
       "      <td>69282.0</td>\n",
       "      <td>220269.0</td>\n",
       "      <td>162133.0</td>\n",
       "      <td>318744.0</td>\n",
       "    </tr>\n",
       "    <tr>\n",
       "      <th>309349</th>\n",
       "      <td>5.0</td>\n",
       "      <td>5.0</td>\n",
       "      <td>5.0</td>\n",
       "      <td>5.0</td>\n",
       "      <td>16.0</td>\n",
       "      <td>16.0</td>\n",
       "      <td>4.200000</td>\n",
       "      <td>4.200000</td>\n",
       "      <td>10.000000</td>\n",
       "      <td>27.000000</td>\n",
       "      <td>...</td>\n",
       "      <td>50.0</td>\n",
       "      <td>135.0</td>\n",
       "      <td>11203.0</td>\n",
       "      <td>27684.0</td>\n",
       "      <td>11.0</td>\n",
       "      <td>11.0</td>\n",
       "      <td>37.0</td>\n",
       "      <td>115.0</td>\n",
       "      <td>5850.0</td>\n",
       "      <td>13943.0</td>\n",
       "    </tr>\n",
       "    <tr>\n",
       "      <th>299996</th>\n",
       "      <td>7.0</td>\n",
       "      <td>7.0</td>\n",
       "      <td>19.0</td>\n",
       "      <td>47.0</td>\n",
       "      <td>603.0</td>\n",
       "      <td>1530.0</td>\n",
       "      <td>90.571429</td>\n",
       "      <td>231.000000</td>\n",
       "      <td>1322.000000</td>\n",
       "      <td>7819.142857</td>\n",
       "      <td>...</td>\n",
       "      <td>2659174.0</td>\n",
       "      <td>12814649.0</td>\n",
       "      <td>20693778.0</td>\n",
       "      <td>52868058.0</td>\n",
       "      <td>5547.0</td>\n",
       "      <td>23350.0</td>\n",
       "      <td>120147.0</td>\n",
       "      <td>345094.0</td>\n",
       "      <td>162133.0</td>\n",
       "      <td>351372.0</td>\n",
       "    </tr>\n",
       "    <tr>\n",
       "      <th>71787</th>\n",
       "      <td>518.0</td>\n",
       "      <td>1564.0</td>\n",
       "      <td>7423.0</td>\n",
       "      <td>44604.0</td>\n",
       "      <td>89288.0</td>\n",
       "      <td>233936.0</td>\n",
       "      <td>200.030888</td>\n",
       "      <td>620.810811</td>\n",
       "      <td>5004.312741</td>\n",
       "      <td>24117.747104</td>\n",
       "      <td>...</td>\n",
       "      <td>6242005.0</td>\n",
       "      <td>39393107.0</td>\n",
       "      <td>108690379.0</td>\n",
       "      <td>316581164.0</td>\n",
       "      <td>5547.0</td>\n",
       "      <td>23350.0</td>\n",
       "      <td>120147.0</td>\n",
       "      <td>345094.0</td>\n",
       "      <td>162133.0</td>\n",
       "      <td>351372.0</td>\n",
       "    </tr>\n",
       "    <tr>\n",
       "      <th>142864</th>\n",
       "      <td>143.0</td>\n",
       "      <td>313.0</td>\n",
       "      <td>3156.0</td>\n",
       "      <td>32536.0</td>\n",
       "      <td>75803.0</td>\n",
       "      <td>210217.0</td>\n",
       "      <td>573.230769</td>\n",
       "      <td>1922.909091</td>\n",
       "      <td>15566.167832</td>\n",
       "      <td>69071.055944</td>\n",
       "      <td>...</td>\n",
       "      <td>6853282.0</td>\n",
       "      <td>44294540.0</td>\n",
       "      <td>145149413.0</td>\n",
       "      <td>447730576.0</td>\n",
       "      <td>5547.0</td>\n",
       "      <td>23350.0</td>\n",
       "      <td>120147.0</td>\n",
       "      <td>345094.0</td>\n",
       "      <td>162133.0</td>\n",
       "      <td>351372.0</td>\n",
       "    </tr>\n",
       "    <tr>\n",
       "      <th>287296</th>\n",
       "      <td>13.0</td>\n",
       "      <td>14.0</td>\n",
       "      <td>30.0</td>\n",
       "      <td>70.0</td>\n",
       "      <td>3931.0</td>\n",
       "      <td>9225.0</td>\n",
       "      <td>306.000000</td>\n",
       "      <td>719.307692</td>\n",
       "      <td>6380.538462</td>\n",
       "      <td>25851.692308</td>\n",
       "      <td>...</td>\n",
       "      <td>6817566.0</td>\n",
       "      <td>44294540.0</td>\n",
       "      <td>120648599.0</td>\n",
       "      <td>367510458.0</td>\n",
       "      <td>5547.0</td>\n",
       "      <td>23350.0</td>\n",
       "      <td>120147.0</td>\n",
       "      <td>345094.0</td>\n",
       "      <td>162133.0</td>\n",
       "      <td>351372.0</td>\n",
       "    </tr>\n",
       "    <tr>\n",
       "      <th>255894</th>\n",
       "      <td>154.0</td>\n",
       "      <td>306.0</td>\n",
       "      <td>2929.0</td>\n",
       "      <td>28256.0</td>\n",
       "      <td>71685.0</td>\n",
       "      <td>196797.0</td>\n",
       "      <td>502.525974</td>\n",
       "      <td>1642.876623</td>\n",
       "      <td>12515.116883</td>\n",
       "      <td>55775.642857</td>\n",
       "      <td>...</td>\n",
       "      <td>6817566.0</td>\n",
       "      <td>44294540.0</td>\n",
       "      <td>120648599.0</td>\n",
       "      <td>367510458.0</td>\n",
       "      <td>5547.0</td>\n",
       "      <td>23350.0</td>\n",
       "      <td>120147.0</td>\n",
       "      <td>345094.0</td>\n",
       "      <td>162133.0</td>\n",
       "      <td>351372.0</td>\n",
       "    </tr>\n",
       "    <tr>\n",
       "      <th>574102</th>\n",
       "      <td>1.0</td>\n",
       "      <td>1.0</td>\n",
       "      <td>1.0</td>\n",
       "      <td>1.0</td>\n",
       "      <td>177.0</td>\n",
       "      <td>490.0</td>\n",
       "      <td>178.000000</td>\n",
       "      <td>491.000000</td>\n",
       "      <td>4216.000000</td>\n",
       "      <td>41091.000000</td>\n",
       "      <td>...</td>\n",
       "      <td>4687.0</td>\n",
       "      <td>38900.0</td>\n",
       "      <td>92415.0</td>\n",
       "      <td>247739.0</td>\n",
       "      <td>284.0</td>\n",
       "      <td>442.0</td>\n",
       "      <td>4633.0</td>\n",
       "      <td>38689.0</td>\n",
       "      <td>83533.0</td>\n",
       "      <td>225410.0</td>\n",
       "    </tr>\n",
       "  </tbody>\n",
       "</table>\n",
       "<p>10 rows × 192 columns</p>\n",
       "</div>"
      ],
      "text/plain": [
       "         src0    src1    src2     src3     src4      src5        src6  \\\n",
       "305467   18.0    19.0    43.0    107.0   7351.0   20510.0  412.166667   \n",
       "519305    1.0     1.0     1.0      1.0      3.0       3.0    4.000000   \n",
       "455611    1.0     1.0     1.0      1.0     32.0      36.0   33.000000   \n",
       "309349    5.0     5.0     5.0      5.0     16.0      16.0    4.200000   \n",
       "299996    7.0     7.0    19.0     47.0    603.0    1530.0   90.571429   \n",
       "71787   518.0  1564.0  7423.0  44604.0  89288.0  233936.0  200.030888   \n",
       "142864  143.0   313.0  3156.0  32536.0  75803.0  210217.0  573.230769   \n",
       "287296   13.0    14.0    30.0     70.0   3931.0    9225.0  306.000000   \n",
       "255894  154.0   306.0  2929.0  28256.0  71685.0  196797.0  502.525974   \n",
       "574102    1.0     1.0     1.0      1.0    177.0     490.0  178.000000   \n",
       "\n",
       "               src7          src8          src9  ...      dst86       dst87  \\\n",
       "305467  1150.277778   9336.055556  43754.388889  ...  6817566.0  44294540.0   \n",
       "519305     4.000000      4.000000      4.000000  ...   619641.0   2367269.0   \n",
       "455611    37.000000    124.000000    547.000000  ...   124877.0    545463.0   \n",
       "309349     4.200000     10.000000     27.000000  ...       50.0       135.0   \n",
       "299996   231.000000   1322.000000   7819.142857  ...  2659174.0  12814649.0   \n",
       "71787    620.810811   5004.312741  24117.747104  ...  6242005.0  39393107.0   \n",
       "142864  1922.909091  15566.167832  69071.055944  ...  6853282.0  44294540.0   \n",
       "287296   719.307692   6380.538462  25851.692308  ...  6817566.0  44294540.0   \n",
       "255894  1642.876623  12515.116883  55775.642857  ...  6817566.0  44294540.0   \n",
       "574102   491.000000   4216.000000  41091.000000  ...     4687.0     38900.0   \n",
       "\n",
       "              dst88        dst89   dst90    dst91     dst92     dst93  \\\n",
       "305467  120648599.0  367510458.0  5547.0  23350.0  120147.0  345094.0   \n",
       "519305    2406765.0    5566465.0  5547.0  23350.0  120147.0  345094.0   \n",
       "455611    1001044.0    2620221.0  2483.0   9271.0   69282.0  220269.0   \n",
       "309349      11203.0      27684.0    11.0     11.0      37.0     115.0   \n",
       "299996   20693778.0   52868058.0  5547.0  23350.0  120147.0  345094.0   \n",
       "71787   108690379.0  316581164.0  5547.0  23350.0  120147.0  345094.0   \n",
       "142864  145149413.0  447730576.0  5547.0  23350.0  120147.0  345094.0   \n",
       "287296  120648599.0  367510458.0  5547.0  23350.0  120147.0  345094.0   \n",
       "255894  120648599.0  367510458.0  5547.0  23350.0  120147.0  345094.0   \n",
       "574102      92415.0     247739.0   284.0    442.0    4633.0   38689.0   \n",
       "\n",
       "           dst94     dst95  \n",
       "305467  162133.0  351372.0  \n",
       "519305  162133.0  318744.0  \n",
       "455611  162133.0  318744.0  \n",
       "309349    5850.0   13943.0  \n",
       "299996  162133.0  351372.0  \n",
       "71787   162133.0  351372.0  \n",
       "142864  162133.0  351372.0  \n",
       "287296  162133.0  351372.0  \n",
       "255894  162133.0  351372.0  \n",
       "574102   83533.0  225410.0  \n",
       "\n",
       "[10 rows x 192 columns]"
      ]
     },
     "execution_count": 198,
     "metadata": {},
     "output_type": "execute_result"
    }
   ],
   "source": [
    "X = data.copy()\n",
    "X = X.drop(['label'], axis = 1)\n",
    "X.sample(10)"
   ]
  },
  {
   "cell_type": "code",
   "execution_count": 199,
   "metadata": {},
   "outputs": [
    {
     "data": {
      "text/plain": [
       "263502    1\n",
       "359984    0\n",
       "462871    0\n",
       "535780    0\n",
       "354833    0\n",
       "232491    1\n",
       "602818    0\n",
       "6817      1\n",
       "494234    0\n",
       "98944     1\n",
       "Name: label, dtype: int64"
      ]
     },
     "execution_count": 199,
     "metadata": {},
     "output_type": "execute_result"
    }
   ],
   "source": [
    "y = data['label']\n",
    "y.sample(10)"
   ]
  },
  {
   "cell_type": "code",
   "execution_count": 200,
   "metadata": {},
   "outputs": [
    {
     "name": "stdout",
     "output_type": "stream",
     "text": [
      "(551708, 192)\n",
      "(551708,)\n",
      "(61301, 192)\n",
      "(61301,)\n"
     ]
    }
   ],
   "source": [
    "# 90/10 train-test split\n",
    "X_train, X_test, y_train, y_test = train_test_split(X, y, test_size=0.10, random_state=42)\n",
    "\n",
    "print(X_train.shape)\n",
    "print(y_train.shape)\n",
    "print(X_test.shape)\n",
    "print(y_test.shape)"
   ]
  },
  {
   "cell_type": "code",
   "execution_count": 202,
   "metadata": {},
   "outputs": [
    {
     "data": {
      "text/plain": [
       "LinearRegression(copy_X=True, fit_intercept=True, n_jobs=None, normalize=True)"
      ]
     },
     "execution_count": 202,
     "metadata": {},
     "output_type": "execute_result"
    }
   ],
   "source": [
    "linreg = LinearRegression(normalize = True)\n",
    "linreg.fit(X_train, y_train)"
   ]
  },
  {
   "cell_type": "code",
   "execution_count": 209,
   "metadata": {},
   "outputs": [
    {
     "name": "stdout",
     "output_type": "stream",
     "text": [
      "Mean squared error: 0.9422\n",
      "Mean absolute error: 0.3575\n",
      "R^2: 0.3793\n"
     ]
    }
   ],
   "source": [
    "y_train_pred = linreg.predict(X_train)\n",
    "y_train_pred = [max(int(round(x)), 0) for x in y_train_pred]\n",
    "print(\"Mean squared error: %.4f\" % mean_squared_error(y_train, y_train_pred))\n",
    "print(\"Mean absolute error: %.4f\" % mean_absolute_error(y_train, y_train_pred))\n",
    "print('R^2: %.4f' % r2_score(y_train, y_train_pred))"
   ]
  },
  {
   "cell_type": "code",
   "execution_count": 210,
   "metadata": {},
   "outputs": [
    {
     "name": "stdout",
     "output_type": "stream",
     "text": [
      "Mean squared error: 0.9354\n",
      "Mean absolute error: 0.3563\n",
      "R^2: 0.3817\n"
     ]
    }
   ],
   "source": [
    "y_test_pred = linreg.predict(X_test)\n",
    "y_test_pred = [max(int(round(x)), 0) for x in y_test_pred]\n",
    "print(\"Mean squared error: %.4f\" % mean_squared_error(y_test, y_test_pred))\n",
    "print(\"Mean absolute error: %.4f\" % mean_absolute_error(y_test, y_test_pred))\n",
    "print('R^2: %.4f' % r2_score(y_test, y_test_pred))"
   ]
  },
  {
   "cell_type": "code",
   "execution_count": 231,
   "metadata": {
    "collapsed": true
   },
   "outputs": [],
   "source": [
    "def load_inference_data(filename, n_examples):\n",
    "    inference_data = pd.read_csv(filename, index_col = 0)\n",
    "    inference_data = inference_data.sample(n_examples)\n",
    "    inference_node_pairs = inference_data[['src_id', 'dst_id']]\n",
    "    inference_features = inference_data.copy()\n",
    "    inference_features.drop(['src_id', 'dst_id'], axis = 1, inplace = True)\n",
    "    return inference_node_pairs, inference_features"
   ]
  },
  {
   "cell_type": "code",
   "execution_count": 236,
   "metadata": {
    "collapsed": true
   },
   "outputs": [],
   "source": [
    "# load inference dataset\n",
    "inference_node_pairs, inference_features = load_inference_data('data/rolx_inference_weighted.csv', 200000)"
   ]
  },
  {
   "cell_type": "code",
   "execution_count": 239,
   "metadata": {},
   "outputs": [
    {
     "name": "stdout",
     "output_type": "stream",
     "text": [
      "62618\n"
     ]
    }
   ],
   "source": [
    "inference_preds = linreg.predict(inference_features)\n",
    "inference_preds = [max(int(round(x)), 0) for x in inference_preds]\n",
    "print(np.count_nonzero(inference_preds))"
   ]
  },
  {
   "cell_type": "code",
   "execution_count": 240,
   "metadata": {
    "collapsed": true
   },
   "outputs": [],
   "source": [
    "def output_new_edges(inference_preds, inference_node_pairs, model_type, embedding_type):\n",
    "    filename = 'data/' + model_type + '_' + embedding_type + '_edges_to_add.csv'\n",
    "    with open(filename, 'w') as out_file:\n",
    "        for i, pred in enumerate(inference_preds):\n",
    "            if pred > 0:\n",
    "                src = inference_node_pairs.iloc[i, 0]\n",
    "                dst = inference_node_pairs.iloc[i, 1]\n",
    "                weight = pred\n",
    "                line = str(src) + ', ' + str(dst) + ', ' + str(weight) + '\\n'\n",
    "                out_file.write(line)"
   ]
  },
  {
   "cell_type": "code",
   "execution_count": 241,
   "metadata": {
    "collapsed": true
   },
   "outputs": [],
   "source": [
    "output_new_edges(inference_preds, inference_node_pairs, 'linreg', 'rolx')"
   ]
  }
 ],
 "metadata": {
  "kernelspec": {
   "display_name": "224env",
   "language": "python",
   "name": "224env"
  },
  "language_info": {
   "codemirror_mode": {
    "name": "ipython",
    "version": 3
   },
   "file_extension": ".py",
   "mimetype": "text/x-python",
   "name": "python",
   "nbconvert_exporter": "python",
   "pygments_lexer": "ipython3",
   "version": "3.7.3"
  }
 },
 "nbformat": 4,
 "nbformat_minor": 2
}
