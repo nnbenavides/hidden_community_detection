{
 "cells": [
  {
   "cell_type": "code",
   "execution_count": 1,
   "metadata": {
    "collapsed": true
   },
   "outputs": [],
   "source": [
    "import pandas as pd\n",
    "import numpy as np\n",
    "import snap\n",
    "import networkx as nx\n",
    "import community"
   ]
  },
  {
   "cell_type": "code",
   "execution_count": 2,
   "metadata": {
    "collapsed": true
   },
   "outputs": [],
   "source": [
    "# Load graph into networkx (weighted, undirected)\n",
    "df = pd.read_csv('data/reddit_nodes_weighted_full.csv', header=None, names=['source', 'target', 'weight'])\n",
    "G = nx.from_pandas_edgelist(df, edge_attr='weight', create_using=nx.Graph())"
   ]
  },
  {
   "cell_type": "code",
   "execution_count": 49,
   "metadata": {},
   "outputs": [],
   "source": [
    "# run Louvain\n",
    "partition = community.best_partition(G, randomize = True)"
   ]
  },
  {
   "cell_type": "code",
   "execution_count": 50,
   "metadata": {},
   "outputs": [
    {
     "name": "stdout",
     "output_type": "stream",
     "text": [
      "modularity: 0.48002252029611436\n"
     ]
    }
   ],
   "source": [
    "modularity = community.modularity(partition, G)\n",
    "print(\"modularity: \" + str(modularity))"
   ]
  },
  {
   "cell_type": "code",
   "execution_count": 51,
   "metadata": {},
   "outputs": [
    {
     "name": "stdout",
     "output_type": "stream",
     "text": [
      "Louvian detected 795 communities\n"
     ]
    }
   ],
   "source": [
    "communities = {}\n",
    "for v in partition.values():\n",
    "    communities[v] = communities.get(v, 0) + 1\n",
    "print(\"Louvian detected %d communities\" % len(communities.keys()))"
   ]
  },
  {
   "cell_type": "code",
   "execution_count": 21,
   "metadata": {},
   "outputs": [
    {
     "name": "stdout",
     "output_type": "stream",
     "text": [
      "784\n"
     ]
    }
   ],
   "source": [
    "# reverse the dict\n",
    "comms = dict(partition)\n",
    "reverse_comms = {}\n",
    "for key, val in comms.items():\n",
    "    reverse_comms[val] = reverse_comms.get(val, []) + [key]\n",
    "print(len(reverse_comms.keys()))"
   ]
  },
  {
   "cell_type": "code",
   "execution_count": 22,
   "metadata": {
    "collapsed": true
   },
   "outputs": [],
   "source": [
    "# Load nodes mapping\n",
    "nodes_mapping = np.load('data/reverse_nodes_mapping.npy', allow_pickle = True)\n",
    "nodes_mapping = nodes_mapping.item()"
   ]
  },
  {
   "cell_type": "code",
   "execution_count": 24,
   "metadata": {
    "collapsed": true
   },
   "outputs": [],
   "source": [
    "# Write results to file\n",
    "f = open('results/louvain_baseline.txt', 'a')\n",
    "for cmty, nodes in reverse_comms.items():\n",
    "    f.write(\"Community %d:\\n\" % cmty)\n",
    "    for node in nodes:\n",
    "        f.write(nodes_mapping[node] + \"\\n\")\n",
    "    f.write(\"\\n\")"
   ]
  },
  {
   "cell_type": "code",
   "execution_count": null,
   "metadata": {
    "collapsed": true
   },
   "outputs": [],
   "source": []
  }
 ],
 "metadata": {
  "kernelspec": {
   "display_name": "224env",
   "language": "python",
   "name": "224env"
  },
  "language_info": {
   "codemirror_mode": {
    "name": "ipython",
    "version": 3
   },
   "file_extension": ".py",
   "mimetype": "text/x-python",
   "name": "python",
   "nbconvert_exporter": "python",
   "pygments_lexer": "ipython3",
   "version": "3.7.3"
  }
 },
 "nbformat": 4,
 "nbformat_minor": 2
}
