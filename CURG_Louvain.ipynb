{
 "cells": [
  {
   "cell_type": "code",
   "execution_count": null,
   "metadata": {},
   "outputs": [],
   "source": [
    "\"\"\"Create Unweighted Random Graph and then execute Louvain\"\"\""
   ]
  },
  {
   "cell_type": "code",
   "execution_count": 1,
   "metadata": {},
   "outputs": [],
   "source": [
    "import pandas as pd\n",
    "import numpy as np\n",
    "import snap\n",
    "\n",
    "dft = pd.read_csv('soc-redditHyperlinks-title.tsv', sep='\\t')\n",
    "dfb = pd.read_csv('soc-redditHyperlinks-body.tsv', sep='\\t')\n",
    "\n",
    "dft = dft[dft.columns[:2]]\n",
    "dfb = dfb[dft.columns[:2]]\n",
    "\n",
    "df = pd.concat([dft, dfb])"
   ]
  },
  {
   "cell_type": "code",
   "execution_count": 2,
   "metadata": {},
   "outputs": [],
   "source": [
    "dft = dft[dft.columns[:2]]\n",
    "dfb = dfb[dft.columns[:2]]\n",
    "\n",
    "df = pd.concat([dft, dfb])"
   ]
  },
  {
   "cell_type": "code",
   "execution_count": 3,
   "metadata": {},
   "outputs": [],
   "source": [
    "import pandas as pd\n",
    "import numpy as np\n",
    "import snap\n",
    "\n",
    "dft = pd.read_csv('soc-redditHyperlinks-title.tsv', sep='\\t')\n",
    "dfb = pd.read_csv('soc-redditHyperlinks-body.tsv', sep='\\t')\n",
    "\n",
    "dft = dft[dft.columns[:2]]\n",
    "dfb = dfb[dft.columns[:2]]\n",
    "\n",
    "df = pd.concat([dft, dfb])\n",
    "temp = df.values\n",
    "s, d = df.values[:, 0], df.values[:, 1]\n",
    "all_nodes = np.unique(list(s)+list(d))\n",
    "encodings = {}\n",
    "reverse_encodings = {}\n",
    "for i in range(len(all_nodes)):\n",
    "    encodings[all_nodes[i]] = i\n",
    "    reverse_encodings[i] = all_nodes[i]"
   ]
  },
  {
   "cell_type": "code",
   "execution_count": 5,
   "metadata": {},
   "outputs": [],
   "source": [
    "edge_exists = {}\n",
    "f = open('undirected_unweighted_union_reddit_edge_list_names.tsv', 'a')\n",
    "for s, d in temp:\n",
    "    if (s, d) in edge_exists: continue\n",
    "    f.write('%s\\t%s\\n' % (s, d))\n",
    "    edge_exists[(s, d)] = True"
   ]
  },
  {
   "cell_type": "code",
   "execution_count": 18,
   "metadata": {},
   "outputs": [],
   "source": [
    "# Creat graph for title dataset\n",
    "edge_exists = {}\n",
    "f = open('undirected_unweighted_titles_reddit_edge_list.tsv', 'a')\n",
    "for s, d in dft.values:\n",
    "    if (s, d) in edge_exists: continue\n",
    "    f.write('%d\\t%d\\n' % (encodings[s], encodings[d]))\n",
    "    edge_exists[(s, d)] = True\n"
   ]
  },
  {
   "cell_type": "code",
   "execution_count": 19,
   "metadata": {},
   "outputs": [],
   "source": [
    "# Creat graph for body dataset\n",
    "edge_exists = {}\n",
    "f = open('undirected_unweighted_body_reddit_edge_list.tsv', 'a')\n",
    "for s, d in dfb.values:\n",
    "    if (s, d) in edge_exists: continue\n",
    "    f.write('%d\\t%d\\n' % (encodings[s], encodings[d]))\n",
    "    edge_exists[(s, d)] = True"
   ]
  },
  {
   "cell_type": "code",
   "execution_count": 30,
   "metadata": {},
   "outputs": [
    {
     "name": "stdout",
     "output_type": "stream",
     "text": [
      "union has 806 communities\n",
      "body has 559 communities\n",
      "title has 820 communities\n"
     ]
    }
   ],
   "source": [
    "import networkx as nx\n",
    "\n",
    "Gu = nx.read_edgelist('undirected_unweighted_union_reddit_edge_list.tsv')\n",
    "\n",
    "import community\n",
    "partition = community.best_partition(Gu)\n",
    "modularity = community.modularity(partition, Gu)\n",
    "print(\"modularity\" + str(modularity))\n",
    "\n",
    "communities_u = {}\n",
    "for v in partition.values():\n",
    "    communities_u[v] = communities_u.get(v, 0) + 1\n",
    "\n",
    "plt.figure()\n",
    "plt.hist(communities_u.values())\n",
    "plt.savefig('union_hist.png')\n",
    "\n",
    "Gb = nx.read_edgelist('undirected_unweighted_body_reddit_edge_list.tsv')\n",
    "\n",
    "partition = community.best_partition(Gb)\n",
    "modularity = community.modularity(partition, Gb)\n",
    "print(\"modularity body\" + str(modularity))\n",
    "\n",
    "communities_b = {}\n",
    "for v in partition.values():\n",
    "    communities_b[v] = communities_b.get(v, 0) + 1\n",
    "\n",
    "plt.figure()\n",
    "plt.hist(communities_b.values())\n",
    "plt.savefig('body_hist.png')\n",
    "\n",
    "\n",
    "Gt = nx.read_edgelist('undirected_unweighted_titles_reddit_edge_list.tsv')\n",
    "\n",
    "partition = community.best_partition(Gt)\n",
    "modularity = community.modularity(partition, Gt)\n",
    "print(\"modularity title\" + str(modularity))\n",
    "\n",
    "communities_t = {}\n",
    "for v in partition.values():\n",
    "    communities_t[v] = communities_t.get(v, 0) + 1\n",
    "\n",
    "plt.figure()\n",
    "plt.hist(communities_t.values())\n",
    "plt.savefig('title_hist.png')\n",
    "\n",
    "\n",
    "print(\"union has %d communities\" % len(communities.keys()))\n",
    "print(\"body has %d communities\" % len(communities_b.keys()))\n",
    "print(\"title has %d communities\" % len(communities_t.keys()))\n"
   ]
  },
  {
   "cell_type": "code",
   "execution_count": 9,
   "metadata": {},
   "outputs": [],
   "source": [
    "# import matplotlib.pyplot as plt\n",
    "# size = float(len(set(partition.values())))\n",
    "# pos = nx.spring_layout(G)\n",
    "# count = 0.\n",
    "# for com in set(partition.values()):\n",
    "#     count += 1\n",
    "#     list_nodes = [nodes for nodes in partition.keys() if partition[nodes] == com]\n",
    "#     nx.draw_networkx_nodes(G, pos, list_nodes, node_size = 20, node_color = str(count / size))\n",
    "\n",
    "# nx.draw_networkx_edges(G, pos, alpha=0.5)\n",
    "# plt.savefig('temp.png')"
   ]
  },
  {
   "cell_type": "code",
   "execution_count": 10,
   "metadata": {},
   "outputs": [],
   "source": [
    "g = snap.LoadEdgeList(snap.PUNGraph, \"undirected_unweighted_union_reddit_edge_list.tsv\", 0, 1, '\\t')"
   ]
  },
  {
   "cell_type": "code",
   "execution_count": null,
   "metadata": {},
   "outputs": [],
   "source": [
    "encodings = 'node_encodings.txt'\n",
    "CmtyV = snap.TCnComV()\n",
    "modularity = snap.CommunityGirvanNewman(g, CmtyV)\n",
    "for Cmty in CmtyV:\n",
    "    print(\"Community: \")\n",
    "    for NI in Cmty:\n",
    "        print(reverse_encodings[NI])"
   ]
  },
  {
   "cell_type": "code",
   "execution_count": null,
   "metadata": {},
   "outputs": [],
   "source": []
  }
 ],
 "metadata": {
  "kernelspec": {
   "display_name": "Python 3",
   "language": "python",
   "name": "python3"
  },
  "language_info": {
   "codemirror_mode": {
    "name": "ipython",
    "version": 3
   },
   "file_extension": ".py",
   "mimetype": "text/x-python",
   "name": "python",
   "nbconvert_exporter": "python",
   "pygments_lexer": "ipython3",
   "version": "3.7.0"
  }
 },
 "nbformat": 4,
 "nbformat_minor": 2
}
