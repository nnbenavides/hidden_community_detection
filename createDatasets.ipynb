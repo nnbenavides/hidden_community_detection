{
 "cells": [
  {
   "cell_type": "code",
   "execution_count": 1,
   "metadata": {
    "collapsed": true
   },
   "outputs": [],
   "source": [
    "import pandas as pd\n",
    "import numpy as np\n",
    "import snap\n",
    "\n",
    "dft = pd.read_csv('data/soc-redditHyperlinks-title.tsv', sep='\\t')\n",
    "dfb = pd.read_csv('data/soc-redditHyperlinks-body.tsv', sep='\\t')\n",
    "\n",
    "dft = dft[dft.columns[:2]]\n",
    "dfb = dfb[dft.columns[:2]]\n",
    "\n",
    "df = pd.concat([dft, dfb])"
   ]
  },
  {
   "cell_type": "code",
<<<<<<< HEAD
   "execution_count": 3,
   "metadata": {
    "collapsed": true
   },
=======
   "execution_count": 2,
   "metadata": {},
>>>>>>> 6041153ad89b4a6168fc2b2fc60b80493fbbf262
   "outputs": [],
   "source": [
    "dft = dft[dft.columns[:2]]\n",
    "dfb = dfb[dft.columns[:2]]\n",
    "\n",
    "df = pd.concat([dft, dfb])"
   ]
  },
  {
   "cell_type": "code",
<<<<<<< HEAD
   "execution_count": 4,
   "metadata": {
    "collapsed": true
   },
=======
   "execution_count": 3,
   "metadata": {},
>>>>>>> 6041153ad89b4a6168fc2b2fc60b80493fbbf262
   "outputs": [],
   "source": [
    "import pandas as pd\n",
    "import numpy as np\n",
    "import snap\n",
    "\n",
    "dft = pd.read_csv('data/soc-redditHyperlinks-title.tsv', sep='\\t')\n",
    "dfb = pd.read_csv('data/soc-redditHyperlinks-body.tsv', sep='\\t')\n",
    "\n",
    "dft = dft[dft.columns[:2]]\n",
    "dfb = dfb[dft.columns[:2]]\n",
    "\n",
    "df = pd.concat([dft, dfb])\n",
    "temp = df.values\n",
    "s, d = df.values[:, 0], df.values[:, 1]\n",
    "all_nodes = np.unique(list(s)+list(d))\n",
    "encodings = {}\n",
    "reverse_encodings = {}\n",
    "for i in range(len(all_nodes)):\n",
    "    encodings[all_nodes[i]] = i\n",
    "    reverse_encodings[i] = all_nodes[i]"
   ]
  },
  {
   "cell_type": "code",
<<<<<<< HEAD
   "execution_count": 5,
   "metadata": {
    "collapsed": true
   },
=======
   "execution_count": 4,
   "metadata": {},
>>>>>>> 6041153ad89b4a6168fc2b2fc60b80493fbbf262
   "outputs": [],
   "source": [
    "edge_exists = {}\n",
    "f = open('data/undirected_unweighted_union_reddit_edge_list.tsv', 'a')\n",
    "for s, d in temp:\n",
    "    if (s, d) in edge_exists: continue\n",
    "    f.write('%d\\t%d\\n' % (encodings[s], encodings[d]))\n",
    "    edge_exists[(s, d)] = True"
   ]
  },
  {
   "cell_type": "code",
<<<<<<< HEAD
   "execution_count": 6,
   "metadata": {
    "collapsed": true
   },
=======
   "execution_count": 5,
   "metadata": {},
>>>>>>> 6041153ad89b4a6168fc2b2fc60b80493fbbf262
   "outputs": [],
   "source": [
    "# Creat graph for title dataset\n",
    "edge_exists = {}\n",
    "f = open('data/undirected_unweighted_titles_reddit_edge_list.tsv', 'a')\n",
    "for s, d in dft.values:\n",
    "    if (s, d) in edge_exists: continue\n",
    "    f.write('%d\\t%d\\n' % (encodings[s], encodings[d]))\n",
    "    edge_exists[(s, d)] = True\n"
   ]
  },
  {
   "cell_type": "code",
   "execution_count": 7,
   "metadata": {
    "collapsed": true
   },
   "outputs": [],
   "source": [
    "# Creat graph for body dataset\n",
    "edge_exists = {}\n",
    "f = open('data/undirected_unweighted_body_reddit_edge_list.tsv', 'a')\n",
    "for s, d in dfb.values:\n",
    "    if (s, d) in edge_exists: continue\n",
    "    f.write('%d\\t%d\\n' % (encodings[s], encodings[d]))\n",
    "    edge_exists[(s, d)] = True"
   ]
  },
  {
   "cell_type": "code",
   "execution_count": 8,
   "metadata": {
    "collapsed": true
   },
   "outputs": [],
   "source": [
    "titleGraph = snap.LoadEdgeList(snap.PUNGraph, \"data/undirected_unweighted_titles_reddit_edge_list.tsv\", 0, 1, '\\t')"
   ]
  },
  {
   "cell_type": "code",
   "execution_count": 15,
   "metadata": {},
   "outputs": [
    {
     "name": "stdout",
     "output_type": "stream",
     "text": [
      "54075\n",
      "220151\n"
     ]
    }
   ],
   "source": [
    "print(titleGraph.GetNodes())\n",
    "print(titleGraph.GetEdges())"
   ]
  },
  {
   "cell_type": "code",
   "execution_count": 9,
   "metadata": {
    "collapsed": true
   },
   "outputs": [],
   "source": [
    "bodyGraph = snap.LoadEdgeList(snap.PUNGraph, \"data/undirected_unweighted_body_reddit_edge_list.tsv\", 0, 1, '\\t')"
   ]
  },
  {
   "cell_type": "code",
   "execution_count": 20,
   "metadata": {},
   "outputs": [
    {
     "name": "stdout",
     "output_type": "stream",
     "text": [
      "35648\n",
      "123729\n"
     ]
    }
   ],
   "source": [
    "print(bodyGraph.GetNodes())\n",
    "print(bodyGraph.GetEdges())"
   ]
  },
  {
   "cell_type": "code",
   "execution_count": 10,
   "metadata": {
    "collapsed": true
   },
   "outputs": [],
   "source": [
    "unionGraph = snap.LoadEdgeList(snap.PUNGraph, \"data/undirected_unweighted_union_reddit_edge_list.tsv\", 0, 1, '\\t')"
   ]
  },
  {
   "cell_type": "code",
   "execution_count": 21,
   "metadata": {},
   "outputs": [
    {
     "name": "stdout",
     "output_type": "stream",
     "text": [
      "67180\n",
      "309667\n",
      "309667\n"
     ]
    }
   ],
   "source": [
    "print(unionGraph.GetNodes())\n",
    "print(unionGraph.GetEdges())"
   ]
  },
  {
   "cell_type": "code",
   "execution_count": null,
   "metadata": {
    "collapsed": true
   },
   "outputs": [],
   "source": [
    "encodings = 'node_encodings.txt'\n",
    "CmtyV = snap.TCnComV()\n",
    "modularity = snap.CommunityGirvanNewman(bodyGraph, CmtyV)\n",
    "print('Modularity:', modularity)\n",
    "for Cmty in CmtyV:\n",
    "    print(\"Community: \")\n",
    "    for NI in Cmty:\n",
    "        print(reverse_encodings[NI])"
   ]
  },
  {
   "cell_type": "code",
   "execution_count": null,
<<<<<<< HEAD
   "metadata": {
    "collapsed": true
   },
=======
   "metadata": {},
>>>>>>> 6041153ad89b4a6168fc2b2fc60b80493fbbf262
   "outputs": [],
   "source": []
  }
 ],
 "metadata": {
  "kernelspec": {
   "display_name": "projectname",
   "language": "python",
   "name": "projectname"
  },
  "language_info": {
   "codemirror_mode": {
    "name": "ipython",
    "version": 3
   },
   "file_extension": ".py",
   "mimetype": "text/x-python",
   "name": "python",
   "nbconvert_exporter": "python",
   "pygments_lexer": "ipython3",
<<<<<<< HEAD
   "version": "3.7.3"
=======
   "version": "3.7.4"
>>>>>>> 6041153ad89b4a6168fc2b2fc60b80493fbbf262
  }
 },
 "nbformat": 4,
 "nbformat_minor": 2
}
