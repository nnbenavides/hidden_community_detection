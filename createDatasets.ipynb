{
 "cells": [
  {
   "cell_type": "code",
   "execution_count": 1,
   "metadata": {},
   "outputs": [],
   "source": [
    "import pandas as pd\n",
    "import numpy as np\n",
    "import snap\n",
    "\n",
    "dft = pd.read_csv('soc-redditHyperlinks-title.tsv', sep='\\t')\n",
    "dfb = pd.read_csv('soc-redditHyperlinks-body.tsv', sep='\\t')\n",
    "\n",
    "dft = dft[dft.columns[:2]]\n",
    "dfb = dfb[dft.columns[:2]]\n",
    "\n",
    "df = pd.concat([dft, dfb])"
   ]
  },
  {
   "cell_type": "code",
   "execution_count": 50,
   "metadata": {},
   "outputs": [],
   "source": [
    "dft = dft[dft.columns[:2]]\n",
    "dfb = dfb[dft.columns[:2]]\n",
    "\n",
    "df = pd.concat([dft, dfb])"
   ]
  },
  {
   "cell_type": "code",
   "execution_count": 8,
   "metadata": {},
   "outputs": [],
   "source": [
    "import pandas as pd\n",
    "import numpy as np\n",
    "import snap\n",
    "\n",
    "dft = pd.read_csv('soc-redditHyperlinks-title.tsv', sep='\\t')\n",
    "dfb = pd.read_csv('soc-redditHyperlinks-body.tsv', sep='\\t')\n",
    "\n",
    "dft = dft[dft.columns[:2]]\n",
    "dfb = dfb[dft.columns[:2]]\n",
    "\n",
    "df = pd.concat([dft, dfb])\n",
    "temp = df.values\n",
    "s, d = df.values[:, 0], df.values[:, 1]\n",
    "all_nodes = np.unique(list(s)+list(d))\n",
    "encodings = {}\n",
    "reverse_encodings = {}\n",
    "for i in range(len(all_nodes)):\n",
    "    encodings[all_nodes[i]] = i\n",
    "    reverse_encodings[i] = all_nodes[i]"
   ]
  },
  {
   "cell_type": "code",
   "execution_count": 61,
   "metadata": {},
   "outputs": [],
   "source": [
    "edge_exists = {}\n",
    "f = open('undirected_unweighted_union_reddit_edge_list.tsv', 'a')\n",
    "for s, d in temp:\n",
    "    if (s, d) in edge_exists: continue\n",
    "    f.write('%d\\t%d\\n' % (encodings[s], encodings[d]))\n",
    "    edge_exists[(s, d)] = True"
   ]
  },
  {
   "cell_type": "code",
   "execution_count": 10,
   "metadata": {},
   "outputs": [],
   "source": [
    "g = snap.LoadEdgeList(snap.PUNGraph, \"undirected_unweighted_union_reddit_edge_list.tsv\", 0, 1, '\\t')"
   ]
  },
  {
   "cell_type": "code",
   "execution_count": null,
   "metadata": {},
   "outputs": [],
   "source": [
    "encodings = 'node_encodings.txt'\n",
    "CmtyV = snap.TCnComV()\n",
    "modularity = snap.CommunityGirvanNewman(g, CmtyV)\n",
    "for Cmty in CmtyV:\n",
    "    print(\"Community: \")\n",
    "    for NI in Cmty:\n",
    "        print(reverse_encodings[NI])"
   ]
  },
  {
   "cell_type": "code",
   "execution_count": null,
   "metadata": {},
   "outputs": [],
   "source": [
    "# Creat graph for title dataset\n",
    "edge_exists = {}\n",
    "f = open('undirected_unweighted_titles_reddit_edge_list.tsv', 'a')\n",
    "for s, d in dft.values:\n",
    "    if (s, d) in edge_exists: continue\n",
    "    f.write('%d\\t%d\\n' % (encodings[s], encodings[d]))\n",
    "    edge_exists[(s, d)] = True\n"
   ]
  },
  {
   "cell_type": "code",
   "execution_count": null,
   "metadata": {},
   "outputs": [],
   "source": [
    "# Creat graph for body dataset\n",
    "edge_exists = {}\n",
    "f = open('undirected_unweighted_body_reddit_edge_list.tsv', 'a')\n",
    "for s, d in dfb.values:\n",
    "    if (s, d) in edge_exists: continue\n",
    "    f.write('%d\\t%d\\n' % (encodings[s], encodings[d]))\n",
    "    edge_exists[(s, d)] = True"
   ]
  }
 ],
 "metadata": {
  "kernelspec": {
   "display_name": "Python 3",
   "language": "python",
   "name": "python3"
  },
  "language_info": {
   "codemirror_mode": {
    "name": "ipython",
    "version": 3
   },
   "file_extension": ".py",
   "mimetype": "text/x-python",
   "name": "python",
   "nbconvert_exporter": "python",
   "pygments_lexer": "ipython3",
   "version": "3.7.0"
  }
 },
 "nbformat": 4,
 "nbformat_minor": 2
}
