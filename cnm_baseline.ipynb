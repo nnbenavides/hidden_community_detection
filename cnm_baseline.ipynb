{
 "cells": [
  {
   "cell_type": "code",
   "execution_count": 1,
   "metadata": {
    "collapsed": true
   },
   "outputs": [],
   "source": [
    "import snap"
   ]
  },
  {
   "cell_type": "code",
   "execution_count": 18,
   "metadata": {
    "collapsed": true
   },
   "outputs": [],
   "source": [
    "import pandas as pd\n",
    "import numpy as np\n",
    "\n",
    "dft = pd.read_csv('data/soc-redditHyperlinks-title.tsv', sep='\\t')\n",
    "dfb = pd.read_csv('data/soc-redditHyperlinks-body.tsv', sep='\\t')\n",
    "\n",
    "dft = dft[dft.columns[:2]]\n",
    "dfb = dfb[dft.columns[:2]]\n",
    "\n",
    "df = pd.concat([dft, dfb])\n",
    "temp = df.values\n",
    "s, d = df.values[:, 0], df.values[:, 1]\n",
    "all_nodes = np.unique(list(s)+list(d))\n",
    "encodings = {}\n",
    "reverse_encodings = {}\n",
    "for i in range(len(all_nodes)):\n",
    "    encodings[all_nodes[i]] = i\n",
    "    reverse_encodings[i] = all_nodes[i]"
   ]
  },
  {
   "cell_type": "code",
   "execution_count": 2,
   "metadata": {
    "collapsed": true
   },
   "outputs": [],
   "source": [
    "titleGraph = snap.LoadEdgeList(snap.PUNGraph, \"data/undirected_unweighted_titles_reddit_edge_list.tsv\", 0, 1, '\\t')"
   ]
  },
  {
   "cell_type": "code",
   "execution_count": 3,
   "metadata": {},
   "outputs": [
    {
     "name": "stdout",
     "output_type": "stream",
     "text": [
      "54075\n",
      "220151\n"
     ]
    }
   ],
   "source": [
    "print(titleGraph.GetNodes())\n",
    "print(titleGraph.GetEdges())"
   ]
  },
  {
   "cell_type": "code",
   "execution_count": 4,
   "metadata": {
    "collapsed": true
   },
   "outputs": [],
   "source": [
    "bodyGraph = snap.LoadEdgeList(snap.PUNGraph, \"data/undirected_unweighted_body_reddit_edge_list.tsv\", 0, 1, '\\t')"
   ]
  },
  {
   "cell_type": "code",
   "execution_count": 5,
   "metadata": {},
   "outputs": [
    {
     "name": "stdout",
     "output_type": "stream",
     "text": [
      "35648\n",
      "123729\n"
     ]
    }
   ],
   "source": [
    "print(bodyGraph.GetNodes())\n",
    "print(bodyGraph.GetEdges())"
   ]
  },
  {
   "cell_type": "code",
   "execution_count": 6,
   "metadata": {
    "collapsed": true
   },
   "outputs": [],
   "source": [
    "unionGraph = snap.LoadEdgeList(snap.PUNGraph, \"data/undirected_unweighted_union_reddit_edge_list.tsv\", 0, 1, '\\t')"
   ]
  },
  {
   "cell_type": "code",
   "execution_count": 7,
   "metadata": {},
   "outputs": [
    {
     "name": "stdout",
     "output_type": "stream",
     "text": [
      "67108\n",
      "309195\n"
     ]
    }
   ],
   "source": [
    "print(unionGraph.GetNodes())\n",
    "print(unionGraph.GetEdges())"
   ]
  },
  {
   "cell_type": "code",
   "execution_count": 8,
   "metadata": {},
   "outputs": [
    {
     "name": "stdout",
     "output_type": "stream",
     "text": [
      "Modularity: 0.43745839793355\n"
     ]
    }
   ],
   "source": [
    "CmtyV = snap.TCnComV()\n",
    "modularity = snap.CommunityCNM(bodyGraph, CmtyV)\n",
    "print('Modularity:', modularity)"
   ]
  },
  {
   "cell_type": "code",
   "execution_count": 10,
   "metadata": {},
   "outputs": [
    {
     "name": "stdout",
     "output_type": "stream",
     "text": [
      "Modularity: 0.3554635812342543\n"
     ]
    }
   ],
   "source": [
    "CmtyV1 = snap.TCnComV()\n",
    "modularity1 = snap.CommunityCNM(titleGraph, CmtyV1)\n",
    "print('Modularity:', modularity1)"
   ]
  },
  {
   "cell_type": "code",
   "execution_count": 11,
   "metadata": {},
   "outputs": [
    {
     "name": "stdout",
     "output_type": "stream",
     "text": [
      "Modularity: 0.37850801314470756\n"
     ]
    }
   ],
   "source": [
    "CmtyV2 = snap.TCnComV()\n",
    "modularity2 = snap.CommunityCNM(unionGraph, CmtyV2)\n",
    "print('Modularity:', modularity2)"
   ]
  },
  {
   "cell_type": "code",
   "execution_count": 19,
   "metadata": {},
   "outputs": [],
   "source": [
    "f = open('results/cnm_body_clusters.txt', 'a')\n",
    "i = 1\n",
    "for Cmty in CmtyV:\n",
    "    f.write(\"Community %d:\\n\" % (i))\n",
    "    i+= 1\n",
    "    for NI in Cmty:\n",
    "        f.write(reverse_encodings[NI] + \"\\n\")\n",
    "    f.write(\"\\n\")"
   ]
  },
  {
   "cell_type": "code",
   "execution_count": 20,
   "metadata": {
    "collapsed": true
   },
   "outputs": [],
   "source": [
    "f = open('results/cnm_title_clusters.txt', 'a')\n",
    "i = 1\n",
    "for Cmty in CmtyV1:\n",
    "    f.write(\"Community %d:\\n\" % (i))\n",
    "    i+= 1\n",
    "    for NI in Cmty:\n",
    "        f.write(reverse_encodings[NI] + \"\\n\")\n",
    "    f.write(\"\\n\")"
   ]
  },
  {
   "cell_type": "code",
   "execution_count": 21,
   "metadata": {
    "collapsed": true
   },
   "outputs": [],
   "source": [
    "f = open('results/cnm_union_clusters.txt', 'a')\n",
    "i = 1\n",
    "for Cmty in CmtyV2:\n",
    "    f.write(\"Community %d:\\n\" % (i))\n",
    "    i+= 1\n",
    "    for NI in Cmty:\n",
    "        f.write(reverse_encodings[NI] + \"\\n\")\n",
    "    f.write(\"\\n\")"
   ]
  },
  {
   "cell_type": "code",
   "execution_count": 23,
   "metadata": {},
   "outputs": [
    {
     "name": "stdout",
     "output_type": "stream",
     "text": [
      "901\n"
     ]
    }
   ],
   "source": [
    "body_community_sizes = []\n",
    "for Cmty in CmtyV:\n",
    "    body_community_sizes.append(len(Cmty))\n",
    "print(len(body_community_sizes))"
   ]
  },
  {
   "cell_type": "code",
   "execution_count": 24,
   "metadata": {},
   "outputs": [
    {
     "name": "stdout",
     "output_type": "stream",
     "text": [
      "1375\n"
     ]
    }
   ],
   "source": [
    "title_community_sizes = []\n",
    "for Cmty in CmtyV1:\n",
    "    title_community_sizes.append(len(Cmty))\n",
    "print(len(title_community_sizes))"
   ]
  },
  {
   "cell_type": "code",
   "execution_count": 25,
   "metadata": {},
   "outputs": [
    {
     "name": "stdout",
     "output_type": "stream",
     "text": [
      "1297\n"
     ]
    }
   ],
   "source": [
    "union_community_sizes = []\n",
    "for Cmty in CmtyV2:\n",
    "    union_community_sizes.append(len(Cmty))\n",
    "print(len(union_community_sizes))"
   ]
  },
  {
   "cell_type": "code",
   "execution_count": null,
   "metadata": {
    "collapsed": true
   },
   "outputs": [],
   "source": []
  }
 ],
 "metadata": {
  "kernelspec": {
   "display_name": "projectname",
   "language": "python",
   "name": "projectname"
  },
  "language_info": {
   "codemirror_mode": {
    "name": "ipython",
    "version": 3
   },
   "file_extension": ".py",
   "mimetype": "text/x-python",
   "name": "python",
   "nbconvert_exporter": "python",
   "pygments_lexer": "ipython3",
   "version": "3.7.3"
  }
 },
 "nbformat": 4,
 "nbformat_minor": 2
}
