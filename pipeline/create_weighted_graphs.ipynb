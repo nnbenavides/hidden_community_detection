{
 "cells": [
  {
   "cell_type": "code",
   "execution_count": 1,
   "metadata": {
    "collapsed": true
   },
   "outputs": [],
   "source": [
    "import pandas as pd\n",
    "import numpy as np\n",
    "import networkx as nx\n",
    "\n",
    "dft = pd.read_csv('data/soc-redditHyperlinks-title.tsv', sep='\\t')\n",
    "dfb = pd.read_csv('data/soc-redditHyperlinks-body.tsv', sep='\\t')\n",
    "\n",
    "df = pd.concat([dft, dfb])"
   ]
  },
  {
   "cell_type": "code",
   "execution_count": 2,
   "metadata": {
    "collapsed": true
   },
   "outputs": [],
   "source": [
    "df = df[df.columns[:2]]\n",
    "dft = dft[dft.columns[:2]]\n",
    "dfb = dfb[dfb.columns[:2]]\n",
    "\n",
    "all_nodes = list(np.concatenate([np.unique(df['SOURCE_SUBREDDIT'].values), np.unique(df['TARGET_SUBREDDIT'])]))\n",
    "nodes_mapping = dict(zip(all_nodes, range(len(all_nodes))))"
   ]
  },
  {
   "cell_type": "code",
   "execution_count": 3,
   "metadata": {
    "collapsed": true
   },
   "outputs": [],
   "source": [
    "all_nodes = list(np.concatenate([np.unique(df['SOURCE_SUBREDDIT'].values), np.unique(df['TARGET_SUBREDDIT'])]))\n",
    "nodes_mapping = dict(zip(all_nodes, range(len(all_nodes))))\n",
    "\n",
    "np.save(\"nodes_mapping.npy\", nodes_mapping)\n",
    "# d2=np.load(\"d1.npy\")"
   ]
  },
  {
   "cell_type": "code",
   "execution_count": 9,
   "metadata": {
    "collapsed": true
   },
   "outputs": [],
   "source": [
    "all_nodes = {}\n",
    "all_nodes_b = {}\n",
    "all_nodes_t = {}\n",
    "\n",
    "for i in range(df.shape[0]):\n",
    "    source, dest = df.iloc[i].values\n",
    "    pair = (nodes_mapping[source], nodes_mapping[dest])\n",
    "    all_nodes[pair] = all_nodes.get(pair, 0) + 1\n",
    "    \n",
    "for i in range(dfb.shape[0]):\n",
    "    source, dest = dfb.iloc[i].values\n",
    "    pair = (nodes_mapping[source], nodes_mapping[dest])\n",
    "    all_nodes_b[pair] = all_nodes_b.get(pair, 0) + 1\n",
    "    \n",
    "    \n",
    "for i in range(dft.shape[0]):\n",
    "    source, dest = dft.iloc[i].values\n",
    "    pair = (nodes_mapping[source], nodes_mapping[dest])\n",
    "    all_nodes_t[pair] = all_nodes_t.get(pair, 0) + 1"
   ]
  },
  {
   "cell_type": "code",
   "execution_count": 12,
   "metadata": {
    "collapsed": true
   },
   "outputs": [],
   "source": [
    "f = open('reddit_nodes_weighted_full.csv', 'a')\n",
    "for key in all_nodes.keys():\n",
    "    f.write(\"%d, %d, %d\\n\" % (key[0], key[1], all_nodes[key]))\n",
    "f.close()\n",
    "f = open('reddit_nodes_weighted_body.csv', 'a')\n",
    "for key in all_nodes_b.keys():\n",
    "    f.write(\"%d, %d, %d\\n\" % (key[0], key[1], all_nodes_b[key]))\n",
    "f.close()\n",
    "\n",
    "f = open('reddit_nodes_weighted_title.csv', 'a')\n",
    "for key in all_nodes_t.keys():\n",
    "    f.write(\"%d, %d, %d\\n\" % (key[0], key[1], all_nodes_t[key]))\n",
    "    \n",
    "f.close()"
   ]
  }
 ],
 "metadata": {
  "kernelspec": {
   "display_name": "224env",
   "language": "python",
   "name": "224env"
  },
  "language_info": {
   "codemirror_mode": {
    "name": "ipython",
    "version": 3
   },
   "file_extension": ".py",
   "mimetype": "text/x-python",
   "name": "python",
   "nbconvert_exporter": "python",
   "pygments_lexer": "ipython3",
   "version": "3.7.3"
  }
 },
 "nbformat": 4,
 "nbformat_minor": 2
}
