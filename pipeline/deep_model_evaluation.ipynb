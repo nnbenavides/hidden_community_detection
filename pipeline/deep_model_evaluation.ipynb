{
 "cells": [
  {
   "cell_type": "code",
   "execution_count": null,
   "metadata": {},
   "outputs": [],
   "source": [
    "from sklearn.model_selection import train_test_split\n",
    "import numpy as np\n",
    "import pandas as pd\n",
    "from tensorflow.keras.models import load_model\n",
    "from tensorflow.keras.losses import MeanSquaredError\n",
    "from sklearn.metrics import mean_squared_error, r2_score, mean_absolute_error\n",
    "import math"
   ]
  },
  {
   "cell_type": "code",
   "execution_count": null,
   "metadata": {},
   "outputs": [],
   "source": [
    "# load model\n",
    "model = load_model('models/rolx_256+256+128+32__01-10.14236.hdf5')"
   ]
  },
  {
   "cell_type": "code",
   "execution_count": null,
   "metadata": {},
   "outputs": [],
   "source": [
    "# compile model\n",
    "model.compile(optimizer='adam', loss=MeanSquaredError())"
   ]
  },
  {
   "cell_type": "code",
   "execution_count": null,
   "metadata": {},
   "outputs": [],
   "source": [
    "# load dataset\n",
    "data = pd.read_csv('data/rolx_dataset_weighted.csv', index_col = 0)"
   ]
  },
  {
   "cell_type": "code",
   "execution_count": null,
   "metadata": {
    "collapsed": true
   },
   "outputs": [],
   "source": [
    "# drop outliers - has significant affect on linear regression results\n",
    "q = data[\"label\"].quantile(0.99)\n",
    "data = data[data[\"label\"] < q]"
   ]
  },
  {
   "cell_type": "code",
   "execution_count": null,
   "metadata": {},
   "outputs": [],
   "source": [
    "y = data['label']\n",
    "y.sample(10)"
   ]
  },
  {
   "cell_type": "code",
   "execution_count": null,
   "metadata": {},
   "outputs": [],
   "source": [
    "data.drop(['label'], axis = 1, inplace = True)"
   ]
  },
  {
   "cell_type": "code",
   "execution_count": null,
   "metadata": {},
   "outputs": [],
   "source": [
    "# 90/10 train-test split\n",
    "X_train, X_test, y_train, y_test = train_test_split(data, y, test_size=0.10, random_state=42)\n",
    "X_train = X_train.to_numpy()\n",
    "X_test = X_test.to_numpy()\n",
    "print(X_train.shape)\n",
    "print(y_train.shape)\n",
    "print(X_test.shape)\n",
    "print(y_test.shape)"
   ]
  },
  {
   "cell_type": "code",
   "execution_count": null,
   "metadata": {},
   "outputs": [],
   "source": [
    "y_train_pred = model.predict(X_train, verbose = 0)"
   ]
  },
  {
   "cell_type": "code",
   "execution_count": null,
   "metadata": {},
   "outputs": [],
   "source": [
    "y_train_pred = [pred for sublist in y_train_pred for pred in sublist]\n",
    "y_train_pred = [max(int(round(x)), 0) for x in y_train_pred]\n",
    "print(\"RMSE: %.4f\" % math.sqrt(mean_squared_error(y_train, y_train_pred)))\n",
    "print(\"Mean absolute error: %.4f\" % mean_absolute_error(y_train, y_train_pred))\n",
    "print('R^2: %.4f' % r2_score(y_train, y_train_pred))"
   ]
  },
  {
   "cell_type": "code",
   "execution_count": null,
   "metadata": {
    "collapsed": true
   },
   "outputs": [],
   "source": [
    "y_test_pred = model.predict(X_test, verbose = 0)"
   ]
  },
  {
   "cell_type": "code",
   "execution_count": null,
   "metadata": {},
   "outputs": [],
   "source": [
    "y_test_pred = [pred for sublist in y_test_pred for pred in sublist]\n",
    "y_test_pred = [max(int(round(x)), 0) for x in y_test_pred]\n",
    "print(\"RMSE: %.4f\" % math.sqrt(mean_squared_error(y_test, y_test_pred)))\n",
    "print(\"Mean absolute error: %.4f\" % mean_absolute_error(y_test, y_test_pred))\n",
    "print('R^2: %.4f' % r2_score(y_test, y_test_pred))"
   ]
  },
  {
   "cell_type": "code",
   "execution_count": null,
   "metadata": {
    "collapsed": true
   },
   "outputs": [],
   "source": [
    "def load_inference_data(filename, n_examples):\n",
    "    inference_data = pd.read_csv(filename, index_col = 0)\n",
    "    inference_data = inference_data.sample(n_examples)\n",
    "    inference_node_pairs = inference_data[['src_id', 'dst_id']]\n",
    "    inference_features = inference_data.copy()\n",
    "    inference_features.drop(['src_id', 'dst_id'], axis = 1, inplace = True)\n",
    "    return inference_node_pairs, inference_features"
   ]
  },
  {
   "cell_type": "code",
   "execution_count": null,
   "metadata": {
    "collapsed": true
   },
   "outputs": [],
   "source": [
    "# load inference dataset\n",
    "inference_node_pairs, inference_features = load_inference_data('data/rolx_inference_weighted.csv', 300000)"
   ]
  },
  {
   "cell_type": "code",
   "execution_count": null,
   "metadata": {},
   "outputs": [],
   "source": [
    "inference_preds = model.predict(inference_features.to_numpy())"
   ]
  },
  {
   "cell_type": "code",
   "execution_count": null,
   "metadata": {},
   "outputs": [],
   "source": [
    "inference_preds = [pred for sublist in inference_preds for pred in sublist]\n",
    "inference_preds = [max(int(round(x)), 0) for x in inference_preds]\n",
    "print(np.count_nonzero(inference_preds))"
   ]
  },
  {
   "cell_type": "code",
   "execution_count": null,
   "metadata": {
    "collapsed": true
   },
   "outputs": [],
   "source": [
    "def output_new_edges(inference_preds, inference_node_pairs, model_type, embedding_type):\n",
    "    filename = 'data/' + model_type + '_' + embedding_type + '_edges_to_add.csv'\n",
    "    with open(filename, 'w') as out_file:\n",
    "        for i, pred in enumerate(inference_preds):\n",
    "            if pred > 0:\n",
    "                src = inference_node_pairs.iloc[i, 0]\n",
    "                dst = inference_node_pairs.iloc[i, 1]\n",
    "                weight = pred\n",
    "                line = str(src) + ', ' + str(dst) + ', ' + str(weight) + '\\n'\n",
    "                out_file.write(line)"
   ]
  },
  {
   "cell_type": "code",
   "execution_count": null,
   "metadata": {
    "collapsed": true
   },
   "outputs": [],
   "source": [
    "output_new_edges(inference_preds, inference_node_pairs, 'dense_nn', 'rolx')"
   ]
  },
  {
   "cell_type": "code",
   "execution_count": null,
   "metadata": {
    "collapsed": true
   },
   "outputs": [],
   "source": []
  }
 ],
 "metadata": {
  "kernelspec": {
   "display_name": "224env",
   "language": "python",
   "name": "224env"
  },
  "language_info": {
   "codemirror_mode": {
    "name": "ipython",
    "version": 3
   },
   "file_extension": ".py",
   "mimetype": "text/x-python",
   "name": "python",
   "nbconvert_exporter": "python",
   "pygments_lexer": "ipython3",
   "version": "3.7.3"
  }
 },
 "nbformat": 4,
 "nbformat_minor": 2
}
