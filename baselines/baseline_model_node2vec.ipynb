{
 "cells": [
  {
   "cell_type": "code",
   "execution_count": 1,
   "metadata": {
    "collapsed": true
   },
   "outputs": [],
   "source": [
    "import pandas as pd\n",
    "import numpy as np\n",
    "from sklearn.model_selection import train_test_split\n",
    "import math\n",
    "from sklearn.linear_model import LinearRegression\n",
    "from sklearn.metrics import mean_squared_error, r2_score, mean_absolute_error\n",
    "import json"
   ]
  },
  {
   "cell_type": "code",
   "execution_count": 2,
   "metadata": {
    "collapsed": true
   },
   "outputs": [],
   "source": [
    "# load dataset\n",
    "data = pd.read_csv('data/node2vec_256dim.csv', index_col = 0)"
   ]
  },
  {
   "cell_type": "code",
   "execution_count": 3,
   "metadata": {
    "collapsed": true
   },
   "outputs": [],
   "source": [
    "# drop outliers - has significant affect on linear regression results\n",
    "q = data[\"label\"].quantile(0.99)\n",
    "data = data[data[\"label\"] < q]"
   ]
  },
  {
   "cell_type": "code",
   "execution_count": 4,
   "metadata": {},
   "outputs": [
    {
     "data": {
      "text/html": [
       "<div>\n",
       "<style scoped>\n",
       "    .dataframe tbody tr th:only-of-type {\n",
       "        vertical-align: middle;\n",
       "    }\n",
       "\n",
       "    .dataframe tbody tr th {\n",
       "        vertical-align: top;\n",
       "    }\n",
       "\n",
       "    .dataframe thead th {\n",
       "        text-align: right;\n",
       "    }\n",
       "</style>\n",
       "<table border=\"1\" class=\"dataframe\">\n",
       "  <thead>\n",
       "    <tr style=\"text-align: right;\">\n",
       "      <th></th>\n",
       "      <th>src0</th>\n",
       "      <th>src1</th>\n",
       "      <th>src2</th>\n",
       "      <th>src3</th>\n",
       "      <th>src4</th>\n",
       "      <th>src5</th>\n",
       "      <th>src6</th>\n",
       "      <th>src7</th>\n",
       "      <th>src8</th>\n",
       "      <th>src9</th>\n",
       "      <th>...</th>\n",
       "      <th>dst246</th>\n",
       "      <th>dst247</th>\n",
       "      <th>dst248</th>\n",
       "      <th>dst249</th>\n",
       "      <th>dst250</th>\n",
       "      <th>dst251</th>\n",
       "      <th>dst252</th>\n",
       "      <th>dst253</th>\n",
       "      <th>dst254</th>\n",
       "      <th>dst255</th>\n",
       "    </tr>\n",
       "  </thead>\n",
       "  <tbody>\n",
       "    <tr>\n",
       "      <th>221103</th>\n",
       "      <td>-3.254808</td>\n",
       "      <td>-0.498184</td>\n",
       "      <td>3.198521</td>\n",
       "      <td>-1.190839</td>\n",
       "      <td>-3.012210</td>\n",
       "      <td>0.009669</td>\n",
       "      <td>-0.421230</td>\n",
       "      <td>-2.251530</td>\n",
       "      <td>-0.662277</td>\n",
       "      <td>-0.626224</td>\n",
       "      <td>...</td>\n",
       "      <td>-0.774978</td>\n",
       "      <td>-0.447902</td>\n",
       "      <td>-0.908105</td>\n",
       "      <td>0.250546</td>\n",
       "      <td>-0.191604</td>\n",
       "      <td>0.518216</td>\n",
       "      <td>0.155106</td>\n",
       "      <td>0.873243</td>\n",
       "      <td>-0.026432</td>\n",
       "      <td>-0.277466</td>\n",
       "    </tr>\n",
       "    <tr>\n",
       "      <th>523652</th>\n",
       "      <td>0.170902</td>\n",
       "      <td>-0.218113</td>\n",
       "      <td>0.016552</td>\n",
       "      <td>0.006310</td>\n",
       "      <td>0.202078</td>\n",
       "      <td>-0.024601</td>\n",
       "      <td>0.008458</td>\n",
       "      <td>-0.102188</td>\n",
       "      <td>0.033927</td>\n",
       "      <td>-0.033609</td>\n",
       "      <td>...</td>\n",
       "      <td>0.099820</td>\n",
       "      <td>-0.121982</td>\n",
       "      <td>-0.050491</td>\n",
       "      <td>0.016778</td>\n",
       "      <td>0.235254</td>\n",
       "      <td>-0.001645</td>\n",
       "      <td>0.052328</td>\n",
       "      <td>-0.074040</td>\n",
       "      <td>-0.033732</td>\n",
       "      <td>-0.288014</td>\n",
       "    </tr>\n",
       "    <tr>\n",
       "      <th>370794</th>\n",
       "      <td>0.436548</td>\n",
       "      <td>-0.126295</td>\n",
       "      <td>-0.045260</td>\n",
       "      <td>-0.276206</td>\n",
       "      <td>0.002729</td>\n",
       "      <td>-0.258838</td>\n",
       "      <td>0.314840</td>\n",
       "      <td>-0.183727</td>\n",
       "      <td>0.047459</td>\n",
       "      <td>0.051180</td>\n",
       "      <td>...</td>\n",
       "      <td>0.435408</td>\n",
       "      <td>-0.117129</td>\n",
       "      <td>-0.071275</td>\n",
       "      <td>0.019739</td>\n",
       "      <td>1.388287</td>\n",
       "      <td>-0.491617</td>\n",
       "      <td>0.202765</td>\n",
       "      <td>0.067950</td>\n",
       "      <td>-0.518105</td>\n",
       "      <td>-0.493507</td>\n",
       "    </tr>\n",
       "    <tr>\n",
       "      <th>496352</th>\n",
       "      <td>0.843960</td>\n",
       "      <td>-0.330069</td>\n",
       "      <td>-0.009983</td>\n",
       "      <td>0.438544</td>\n",
       "      <td>-0.544002</td>\n",
       "      <td>-0.593822</td>\n",
       "      <td>-0.150877</td>\n",
       "      <td>-0.032528</td>\n",
       "      <td>-0.039162</td>\n",
       "      <td>-0.028734</td>\n",
       "      <td>...</td>\n",
       "      <td>0.246172</td>\n",
       "      <td>0.026093</td>\n",
       "      <td>0.141927</td>\n",
       "      <td>-0.015538</td>\n",
       "      <td>0.248966</td>\n",
       "      <td>-0.084439</td>\n",
       "      <td>0.092085</td>\n",
       "      <td>-0.103995</td>\n",
       "      <td>0.035007</td>\n",
       "      <td>-0.148845</td>\n",
       "    </tr>\n",
       "    <tr>\n",
       "      <th>569795</th>\n",
       "      <td>0.211372</td>\n",
       "      <td>-0.106784</td>\n",
       "      <td>-0.078711</td>\n",
       "      <td>0.025990</td>\n",
       "      <td>0.057513</td>\n",
       "      <td>-0.156326</td>\n",
       "      <td>0.106247</td>\n",
       "      <td>0.014855</td>\n",
       "      <td>-0.116341</td>\n",
       "      <td>0.011993</td>\n",
       "      <td>...</td>\n",
       "      <td>0.484098</td>\n",
       "      <td>-0.059525</td>\n",
       "      <td>0.570453</td>\n",
       "      <td>0.265557</td>\n",
       "      <td>0.227615</td>\n",
       "      <td>-0.118201</td>\n",
       "      <td>0.169167</td>\n",
       "      <td>-0.496936</td>\n",
       "      <td>-0.073640</td>\n",
       "      <td>-0.679223</td>\n",
       "    </tr>\n",
       "    <tr>\n",
       "      <th>438574</th>\n",
       "      <td>0.178657</td>\n",
       "      <td>-0.215074</td>\n",
       "      <td>-0.065799</td>\n",
       "      <td>0.075445</td>\n",
       "      <td>0.130172</td>\n",
       "      <td>-0.130337</td>\n",
       "      <td>-0.025253</td>\n",
       "      <td>-0.173810</td>\n",
       "      <td>0.058743</td>\n",
       "      <td>0.166362</td>\n",
       "      <td>...</td>\n",
       "      <td>0.148691</td>\n",
       "      <td>-0.024842</td>\n",
       "      <td>0.178727</td>\n",
       "      <td>-0.006497</td>\n",
       "      <td>0.243646</td>\n",
       "      <td>-0.020237</td>\n",
       "      <td>0.034233</td>\n",
       "      <td>-0.043674</td>\n",
       "      <td>0.032533</td>\n",
       "      <td>-0.113293</td>\n",
       "    </tr>\n",
       "    <tr>\n",
       "      <th>31120</th>\n",
       "      <td>-4.164678</td>\n",
       "      <td>1.148429</td>\n",
       "      <td>2.251239</td>\n",
       "      <td>-3.709203</td>\n",
       "      <td>0.519988</td>\n",
       "      <td>-0.533266</td>\n",
       "      <td>1.339565</td>\n",
       "      <td>-5.726871</td>\n",
       "      <td>-2.239186</td>\n",
       "      <td>2.150180</td>\n",
       "      <td>...</td>\n",
       "      <td>-3.068601</td>\n",
       "      <td>0.912485</td>\n",
       "      <td>-1.934673</td>\n",
       "      <td>1.274509</td>\n",
       "      <td>-2.113820</td>\n",
       "      <td>1.166511</td>\n",
       "      <td>0.088604</td>\n",
       "      <td>0.462798</td>\n",
       "      <td>-2.667170</td>\n",
       "      <td>4.667828</td>\n",
       "    </tr>\n",
       "    <tr>\n",
       "      <th>526735</th>\n",
       "      <td>0.185417</td>\n",
       "      <td>-0.084352</td>\n",
       "      <td>0.021086</td>\n",
       "      <td>0.124117</td>\n",
       "      <td>0.182684</td>\n",
       "      <td>-0.068912</td>\n",
       "      <td>-0.075919</td>\n",
       "      <td>0.163429</td>\n",
       "      <td>-0.168111</td>\n",
       "      <td>-0.002331</td>\n",
       "      <td>...</td>\n",
       "      <td>0.173529</td>\n",
       "      <td>-0.024489</td>\n",
       "      <td>0.051078</td>\n",
       "      <td>-0.083436</td>\n",
       "      <td>0.240122</td>\n",
       "      <td>0.065199</td>\n",
       "      <td>0.016465</td>\n",
       "      <td>-0.043011</td>\n",
       "      <td>0.131117</td>\n",
       "      <td>-0.175045</td>\n",
       "    </tr>\n",
       "    <tr>\n",
       "      <th>146119</th>\n",
       "      <td>0.926954</td>\n",
       "      <td>2.293888</td>\n",
       "      <td>0.968753</td>\n",
       "      <td>0.418305</td>\n",
       "      <td>-0.449054</td>\n",
       "      <td>3.590363</td>\n",
       "      <td>-0.154546</td>\n",
       "      <td>0.122409</td>\n",
       "      <td>-0.653065</td>\n",
       "      <td>0.269008</td>\n",
       "      <td>...</td>\n",
       "      <td>0.148905</td>\n",
       "      <td>0.056297</td>\n",
       "      <td>0.416846</td>\n",
       "      <td>-0.093204</td>\n",
       "      <td>0.315081</td>\n",
       "      <td>0.240407</td>\n",
       "      <td>0.198337</td>\n",
       "      <td>0.165624</td>\n",
       "      <td>0.167382</td>\n",
       "      <td>-0.475275</td>\n",
       "    </tr>\n",
       "    <tr>\n",
       "      <th>520589</th>\n",
       "      <td>-0.004386</td>\n",
       "      <td>0.025302</td>\n",
       "      <td>-0.064063</td>\n",
       "      <td>-0.165468</td>\n",
       "      <td>0.227208</td>\n",
       "      <td>-0.272434</td>\n",
       "      <td>0.001118</td>\n",
       "      <td>0.117424</td>\n",
       "      <td>0.085334</td>\n",
       "      <td>-0.174269</td>\n",
       "      <td>...</td>\n",
       "      <td>0.250207</td>\n",
       "      <td>0.014396</td>\n",
       "      <td>0.267165</td>\n",
       "      <td>0.093874</td>\n",
       "      <td>0.070336</td>\n",
       "      <td>0.004023</td>\n",
       "      <td>0.102660</td>\n",
       "      <td>0.091159</td>\n",
       "      <td>0.165374</td>\n",
       "      <td>-0.144840</td>\n",
       "    </tr>\n",
       "  </tbody>\n",
       "</table>\n",
       "<p>10 rows × 512 columns</p>\n",
       "</div>"
      ],
      "text/plain": [
       "            src0      src1      src2      src3      src4      src5      src6  \\\n",
       "221103 -3.254808 -0.498184  3.198521 -1.190839 -3.012210  0.009669 -0.421230   \n",
       "523652  0.170902 -0.218113  0.016552  0.006310  0.202078 -0.024601  0.008458   \n",
       "370794  0.436548 -0.126295 -0.045260 -0.276206  0.002729 -0.258838  0.314840   \n",
       "496352  0.843960 -0.330069 -0.009983  0.438544 -0.544002 -0.593822 -0.150877   \n",
       "569795  0.211372 -0.106784 -0.078711  0.025990  0.057513 -0.156326  0.106247   \n",
       "438574  0.178657 -0.215074 -0.065799  0.075445  0.130172 -0.130337 -0.025253   \n",
       "31120  -4.164678  1.148429  2.251239 -3.709203  0.519988 -0.533266  1.339565   \n",
       "526735  0.185417 -0.084352  0.021086  0.124117  0.182684 -0.068912 -0.075919   \n",
       "146119  0.926954  2.293888  0.968753  0.418305 -0.449054  3.590363 -0.154546   \n",
       "520589 -0.004386  0.025302 -0.064063 -0.165468  0.227208 -0.272434  0.001118   \n",
       "\n",
       "            src7      src8      src9  ...    dst246    dst247    dst248  \\\n",
       "221103 -2.251530 -0.662277 -0.626224  ... -0.774978 -0.447902 -0.908105   \n",
       "523652 -0.102188  0.033927 -0.033609  ...  0.099820 -0.121982 -0.050491   \n",
       "370794 -0.183727  0.047459  0.051180  ...  0.435408 -0.117129 -0.071275   \n",
       "496352 -0.032528 -0.039162 -0.028734  ...  0.246172  0.026093  0.141927   \n",
       "569795  0.014855 -0.116341  0.011993  ...  0.484098 -0.059525  0.570453   \n",
       "438574 -0.173810  0.058743  0.166362  ...  0.148691 -0.024842  0.178727   \n",
       "31120  -5.726871 -2.239186  2.150180  ... -3.068601  0.912485 -1.934673   \n",
       "526735  0.163429 -0.168111 -0.002331  ...  0.173529 -0.024489  0.051078   \n",
       "146119  0.122409 -0.653065  0.269008  ...  0.148905  0.056297  0.416846   \n",
       "520589  0.117424  0.085334 -0.174269  ...  0.250207  0.014396  0.267165   \n",
       "\n",
       "          dst249    dst250    dst251    dst252    dst253    dst254    dst255  \n",
       "221103  0.250546 -0.191604  0.518216  0.155106  0.873243 -0.026432 -0.277466  \n",
       "523652  0.016778  0.235254 -0.001645  0.052328 -0.074040 -0.033732 -0.288014  \n",
       "370794  0.019739  1.388287 -0.491617  0.202765  0.067950 -0.518105 -0.493507  \n",
       "496352 -0.015538  0.248966 -0.084439  0.092085 -0.103995  0.035007 -0.148845  \n",
       "569795  0.265557  0.227615 -0.118201  0.169167 -0.496936 -0.073640 -0.679223  \n",
       "438574 -0.006497  0.243646 -0.020237  0.034233 -0.043674  0.032533 -0.113293  \n",
       "31120   1.274509 -2.113820  1.166511  0.088604  0.462798 -2.667170  4.667828  \n",
       "526735 -0.083436  0.240122  0.065199  0.016465 -0.043011  0.131117 -0.175045  \n",
       "146119 -0.093204  0.315081  0.240407  0.198337  0.165624  0.167382 -0.475275  \n",
       "520589  0.093874  0.070336  0.004023  0.102660  0.091159  0.165374 -0.144840  \n",
       "\n",
       "[10 rows x 512 columns]"
      ]
     },
     "execution_count": 4,
     "metadata": {},
     "output_type": "execute_result"
    }
   ],
   "source": [
    "X = data.copy()\n",
    "X = X.drop(['label'], axis = 1)\n",
    "X.sample(10)"
   ]
  },
  {
   "cell_type": "code",
   "execution_count": 5,
   "metadata": {},
   "outputs": [
    {
     "data": {
      "text/plain": [
       "409668    0\n",
       "77258     1\n",
       "22589     1\n",
       "198794    1\n",
       "523433    0\n",
       "75745     1\n",
       "19735     3\n",
       "130811    1\n",
       "106105    1\n",
       "364395    0\n",
       "Name: label, dtype: int64"
      ]
     },
     "execution_count": 5,
     "metadata": {},
     "output_type": "execute_result"
    }
   ],
   "source": [
    "y = data['label']\n",
    "y.sample(10)"
   ]
  },
  {
   "cell_type": "code",
   "execution_count": 6,
   "metadata": {},
   "outputs": [
    {
     "name": "stdout",
     "output_type": "stream",
     "text": [
      "(546274, 512)\n",
      "(546274,)\n",
      "(60698, 512)\n",
      "(60698,)\n"
     ]
    }
   ],
   "source": [
    "# 90/10 train-test split\n",
    "X_train, X_test, y_train, y_test = train_test_split(X, y, test_size=0.10, random_state=42)\n",
    "\n",
    "print(X_train.shape)\n",
    "print(y_train.shape)\n",
    "print(X_test.shape)\n",
    "print(y_test.shape)"
   ]
  },
  {
   "cell_type": "code",
   "execution_count": 7,
   "metadata": {},
   "outputs": [
    {
     "data": {
      "text/plain": [
       "LinearRegression(copy_X=True, fit_intercept=True, n_jobs=None, normalize=True)"
      ]
     },
     "execution_count": 7,
     "metadata": {},
     "output_type": "execute_result"
    }
   ],
   "source": [
    "linreg = LinearRegression(normalize = True)\n",
    "linreg.fit(X_train, y_train)"
   ]
  },
  {
   "cell_type": "code",
   "execution_count": 8,
   "metadata": {},
   "outputs": [
    {
     "name": "stdout",
     "output_type": "stream",
     "text": [
      "RMSE: 0.9188\n",
      "Mean absolute error: 0.3703\n",
      "R^2: 0.3807\n"
     ]
    }
   ],
   "source": [
    "y_train_pred = linreg.predict(X_train)\n",
    "y_train_pred = [max(int(round(x)), 0) for x in y_train_pred]\n",
    "print(\"RMSE: %.4f\" % math.sqrt(mean_squared_error(y_train, y_train_pred)))\n",
    "print(\"Mean absolute error: %.4f\" % mean_absolute_error(y_train, y_train_pred))\n",
    "print('R^2: %.4f' % r2_score(y_train, y_train_pred))"
   ]
  },
  {
   "cell_type": "code",
   "execution_count": 9,
   "metadata": {},
   "outputs": [
    {
     "name": "stdout",
     "output_type": "stream",
     "text": [
      "RMSE: 0.9158\n",
      "Mean absolute error: 0.3660\n",
      "R^2: 0.3739\n"
     ]
    }
   ],
   "source": [
    "y_test_pred = linreg.predict(X_test)\n",
    "y_test_pred = [max(int(round(x)), 0) for x in y_test_pred]\n",
    "print(\"RMSE: %.4f\" % math.sqrt(mean_squared_error(y_test, y_test_pred)))\n",
    "print(\"Mean absolute error: %.4f\" % mean_absolute_error(y_test, y_test_pred))\n",
    "print('R^2: %.4f' % r2_score(y_test, y_test_pred))"
   ]
  },
  {
   "cell_type": "code",
   "execution_count": 10,
   "metadata": {
    "collapsed": true
   },
   "outputs": [],
   "source": [
    "def load_inference_data(filename, n_examples):\n",
    "    inference_data = pd.read_csv(filename, index_col = 0)\n",
    "    inference_data = inference_data.sample(n_examples)\n",
    "    inference_node_pairs = inference_data[['src_id', 'dst_id']]\n",
    "    inference_features = inference_data.copy()\n",
    "    inference_features.drop(['src_id', 'dst_id'], axis = 1, inplace = True)\n",
    "    return inference_node_pairs, inference_features"
   ]
  },
  {
   "cell_type": "code",
   "execution_count": 13,
   "metadata": {
    "collapsed": true
   },
   "outputs": [],
   "source": [
    "# load inference dataset\n",
    "inference_node_pairs, inference_features = load_inference_data('data/node2vec_256dim_inference.csv', 300000)"
   ]
  },
  {
   "cell_type": "code",
   "execution_count": 14,
   "metadata": {},
   "outputs": [
    {
     "name": "stdout",
     "output_type": "stream",
     "text": [
      "52014\n"
     ]
    }
   ],
   "source": [
    "inference_preds = linreg.predict(inference_features)\n",
    "inference_preds = [max(int(round(x)), 0) for x in inference_preds]\n",
    "print(np.count_nonzero(inference_preds))"
   ]
  },
  {
   "cell_type": "code",
   "execution_count": 15,
   "metadata": {
    "collapsed": true
   },
   "outputs": [],
   "source": [
    "def output_new_edges(inference_preds, inference_node_pairs, model_type, embedding_type):\n",
    "    filename = 'data/' + model_type + '_' + embedding_type + '_edges_to_add.csv'\n",
    "    with open(filename, 'w') as out_file:\n",
    "        for i, pred in enumerate(inference_preds):\n",
    "            if pred > 0:\n",
    "                src = inference_node_pairs.iloc[i, 0]\n",
    "                dst = inference_node_pairs.iloc[i, 1]\n",
    "                weight = pred\n",
    "                line = str(src) + ', ' + str(dst) + ', ' + str(weight) + '\\n'\n",
    "                out_file.write(line)"
   ]
  },
  {
   "cell_type": "code",
   "execution_count": 16,
   "metadata": {
    "collapsed": true
   },
   "outputs": [],
   "source": [
    "output_new_edges(inference_preds, inference_node_pairs, 'linreg', 'node2vec-256')"
   ]
  },
  {
   "cell_type": "code",
   "execution_count": null,
   "metadata": {
    "collapsed": true
   },
   "outputs": [],
   "source": []
  }
 ],
 "metadata": {
  "kernelspec": {
   "display_name": "224env",
   "language": "python",
   "name": "224env"
  },
  "language_info": {
   "codemirror_mode": {
    "name": "ipython",
    "version": 3
   },
   "file_extension": ".py",
   "mimetype": "text/x-python",
   "name": "python",
   "nbconvert_exporter": "python",
   "pygments_lexer": "ipython3",
   "version": "3.7.3"
  }
 },
 "nbformat": 4,
 "nbformat_minor": 2
}
