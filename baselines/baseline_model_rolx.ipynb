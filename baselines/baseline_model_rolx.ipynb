{
 "cells": [
  {
   "cell_type": "code",
   "execution_count": 1,
   "metadata": {
    "collapsed": true
   },
   "outputs": [],
   "source": [
    "import pandas as pd\n",
    "import numpy as np\n",
    "from sklearn.model_selection import train_test_split\n",
    "import math\n",
    "from sklearn.linear_model import LinearRegression\n",
    "from sklearn.metrics import mean_squared_error, r2_score, mean_absolute_error"
   ]
  },
  {
   "cell_type": "code",
   "execution_count": 2,
   "metadata": {
    "collapsed": true
   },
   "outputs": [],
   "source": [
    "# load dataset\n",
    "data = pd.read_csv('data/rolx_dataset_weighted.csv', index_col = 0)"
   ]
  },
  {
   "cell_type": "code",
   "execution_count": 3,
   "metadata": {
    "collapsed": true
   },
   "outputs": [],
   "source": [
    "# drop outliers - has significant affect on linear regression results\n",
    "q = data[\"label\"].quantile(0.99)\n",
    "data = data[data[\"label\"] < q]"
   ]
  },
  {
   "cell_type": "code",
   "execution_count": 4,
   "metadata": {},
   "outputs": [
    {
     "data": {
      "text/html": [
       "<div>\n",
       "<style scoped>\n",
       "    .dataframe tbody tr th:only-of-type {\n",
       "        vertical-align: middle;\n",
       "    }\n",
       "\n",
       "    .dataframe tbody tr th {\n",
       "        vertical-align: top;\n",
       "    }\n",
       "\n",
       "    .dataframe thead th {\n",
       "        text-align: right;\n",
       "    }\n",
       "</style>\n",
       "<table border=\"1\" class=\"dataframe\">\n",
       "  <thead>\n",
       "    <tr style=\"text-align: right;\">\n",
       "      <th></th>\n",
       "      <th>src0</th>\n",
       "      <th>src1</th>\n",
       "      <th>src2</th>\n",
       "      <th>src3</th>\n",
       "      <th>src4</th>\n",
       "      <th>src5</th>\n",
       "      <th>src6</th>\n",
       "      <th>src7</th>\n",
       "      <th>src8</th>\n",
       "      <th>src9</th>\n",
       "      <th>...</th>\n",
       "      <th>dst86</th>\n",
       "      <th>dst87</th>\n",
       "      <th>dst88</th>\n",
       "      <th>dst89</th>\n",
       "      <th>dst90</th>\n",
       "      <th>dst91</th>\n",
       "      <th>dst92</th>\n",
       "      <th>dst93</th>\n",
       "      <th>dst94</th>\n",
       "      <th>dst95</th>\n",
       "    </tr>\n",
       "  </thead>\n",
       "  <tbody>\n",
       "    <tr>\n",
       "      <th>543404</th>\n",
       "      <td>1.0</td>\n",
       "      <td>1.0</td>\n",
       "      <td>1.0</td>\n",
       "      <td>1.0</td>\n",
       "      <td>481.0</td>\n",
       "      <td>1203.0</td>\n",
       "      <td>482.000000</td>\n",
       "      <td>1204.000000</td>\n",
       "      <td>13159.000000</td>\n",
       "      <td>86030.000000</td>\n",
       "      <td>...</td>\n",
       "      <td>7235.0</td>\n",
       "      <td>49867.0</td>\n",
       "      <td>262186.0</td>\n",
       "      <td>823556.0</td>\n",
       "      <td>385.0</td>\n",
       "      <td>1139.0</td>\n",
       "      <td>2513.0</td>\n",
       "      <td>21137.0</td>\n",
       "      <td>59030.0</td>\n",
       "      <td>179815.0</td>\n",
       "    </tr>\n",
       "    <tr>\n",
       "      <th>322350</th>\n",
       "      <td>1.0</td>\n",
       "      <td>1.0</td>\n",
       "      <td>1.0</td>\n",
       "      <td>1.0</td>\n",
       "      <td>1.0</td>\n",
       "      <td>1.0</td>\n",
       "      <td>2.000000</td>\n",
       "      <td>2.000000</td>\n",
       "      <td>2.000000</td>\n",
       "      <td>2.000000</td>\n",
       "      <td>...</td>\n",
       "      <td>1118480.0</td>\n",
       "      <td>5389134.0</td>\n",
       "      <td>9744784.0</td>\n",
       "      <td>25982765.0</td>\n",
       "      <td>3530.0</td>\n",
       "      <td>19896.0</td>\n",
       "      <td>110785.0</td>\n",
       "      <td>333575.0</td>\n",
       "      <td>162133.0</td>\n",
       "      <td>351372.0</td>\n",
       "    </tr>\n",
       "    <tr>\n",
       "      <th>611612</th>\n",
       "      <td>3.0</td>\n",
       "      <td>4.0</td>\n",
       "      <td>4.0</td>\n",
       "      <td>7.0</td>\n",
       "      <td>316.0</td>\n",
       "      <td>768.0</td>\n",
       "      <td>107.000000</td>\n",
       "      <td>259.333333</td>\n",
       "      <td>2091.000000</td>\n",
       "      <td>20544.000000</td>\n",
       "      <td>...</td>\n",
       "      <td>53.0</td>\n",
       "      <td>247.0</td>\n",
       "      <td>16498.0</td>\n",
       "      <td>53483.0</td>\n",
       "      <td>14.0</td>\n",
       "      <td>18.0</td>\n",
       "      <td>41.0</td>\n",
       "      <td>222.0</td>\n",
       "      <td>15930.0</td>\n",
       "      <td>52305.0</td>\n",
       "    </tr>\n",
       "    <tr>\n",
       "      <th>599029</th>\n",
       "      <td>1.0</td>\n",
       "      <td>1.0</td>\n",
       "      <td>1.0</td>\n",
       "      <td>1.0</td>\n",
       "      <td>29.0</td>\n",
       "      <td>35.0</td>\n",
       "      <td>30.000000</td>\n",
       "      <td>36.000000</td>\n",
       "      <td>37.000000</td>\n",
       "      <td>46.000000</td>\n",
       "      <td>...</td>\n",
       "      <td>4070983.0</td>\n",
       "      <td>21377826.0</td>\n",
       "      <td>38896213.0</td>\n",
       "      <td>102350313.0</td>\n",
       "      <td>5547.0</td>\n",
       "      <td>23350.0</td>\n",
       "      <td>120147.0</td>\n",
       "      <td>345094.0</td>\n",
       "      <td>162133.0</td>\n",
       "      <td>351372.0</td>\n",
       "    </tr>\n",
       "    <tr>\n",
       "      <th>108408</th>\n",
       "      <td>1603.0</td>\n",
       "      <td>5093.0</td>\n",
       "      <td>41011.0</td>\n",
       "      <td>158271.0</td>\n",
       "      <td>137132.0</td>\n",
       "      <td>285794.0</td>\n",
       "      <td>135.714910</td>\n",
       "      <td>372.578291</td>\n",
       "      <td>3052.271366</td>\n",
       "      <td>17863.301934</td>\n",
       "      <td>...</td>\n",
       "      <td>6853282.0</td>\n",
       "      <td>44151214.0</td>\n",
       "      <td>145149413.0</td>\n",
       "      <td>447730576.0</td>\n",
       "      <td>5547.0</td>\n",
       "      <td>23350.0</td>\n",
       "      <td>120147.0</td>\n",
       "      <td>345094.0</td>\n",
       "      <td>162133.0</td>\n",
       "      <td>351372.0</td>\n",
       "    </tr>\n",
       "    <tr>\n",
       "      <th>183545</th>\n",
       "      <td>617.0</td>\n",
       "      <td>1585.0</td>\n",
       "      <td>16583.0</td>\n",
       "      <td>88360.0</td>\n",
       "      <td>112645.0</td>\n",
       "      <td>265723.0</td>\n",
       "      <td>235.322528</td>\n",
       "      <td>714.518639</td>\n",
       "      <td>5932.528363</td>\n",
       "      <td>31457.878444</td>\n",
       "      <td>...</td>\n",
       "      <td>6853282.0</td>\n",
       "      <td>44151214.0</td>\n",
       "      <td>145149413.0</td>\n",
       "      <td>447730576.0</td>\n",
       "      <td>5547.0</td>\n",
       "      <td>23350.0</td>\n",
       "      <td>120147.0</td>\n",
       "      <td>345094.0</td>\n",
       "      <td>162133.0</td>\n",
       "      <td>351372.0</td>\n",
       "    </tr>\n",
       "    <tr>\n",
       "      <th>135301</th>\n",
       "      <td>653.0</td>\n",
       "      <td>2048.0</td>\n",
       "      <td>22466.0</td>\n",
       "      <td>126459.0</td>\n",
       "      <td>120495.0</td>\n",
       "      <td>250078.0</td>\n",
       "      <td>252.333844</td>\n",
       "      <td>767.148545</td>\n",
       "      <td>6552.686064</td>\n",
       "      <td>34635.750383</td>\n",
       "      <td>...</td>\n",
       "      <td>4278904.0</td>\n",
       "      <td>22617145.0</td>\n",
       "      <td>36786948.0</td>\n",
       "      <td>95186163.0</td>\n",
       "      <td>5547.0</td>\n",
       "      <td>23350.0</td>\n",
       "      <td>120147.0</td>\n",
       "      <td>345094.0</td>\n",
       "      <td>162133.0</td>\n",
       "      <td>351372.0</td>\n",
       "    </tr>\n",
       "    <tr>\n",
       "      <th>412517</th>\n",
       "      <td>1.0</td>\n",
       "      <td>1.0</td>\n",
       "      <td>1.0</td>\n",
       "      <td>1.0</td>\n",
       "      <td>2.0</td>\n",
       "      <td>3.0</td>\n",
       "      <td>3.000000</td>\n",
       "      <td>4.000000</td>\n",
       "      <td>3.000000</td>\n",
       "      <td>4.000000</td>\n",
       "      <td>...</td>\n",
       "      <td>4230167.0</td>\n",
       "      <td>22044005.0</td>\n",
       "      <td>40087059.0</td>\n",
       "      <td>105080261.0</td>\n",
       "      <td>5547.0</td>\n",
       "      <td>23350.0</td>\n",
       "      <td>120147.0</td>\n",
       "      <td>345094.0</td>\n",
       "      <td>162133.0</td>\n",
       "      <td>351372.0</td>\n",
       "    </tr>\n",
       "    <tr>\n",
       "      <th>290675</th>\n",
       "      <td>289.0</td>\n",
       "      <td>510.0</td>\n",
       "      <td>3687.0</td>\n",
       "      <td>32508.0</td>\n",
       "      <td>76500.0</td>\n",
       "      <td>209865.0</td>\n",
       "      <td>289.221453</td>\n",
       "      <td>949.380623</td>\n",
       "      <td>7698.761246</td>\n",
       "      <td>33777.529412</td>\n",
       "      <td>...</td>\n",
       "      <td>6817566.0</td>\n",
       "      <td>44294540.0</td>\n",
       "      <td>120648599.0</td>\n",
       "      <td>367510458.0</td>\n",
       "      <td>5547.0</td>\n",
       "      <td>23350.0</td>\n",
       "      <td>120147.0</td>\n",
       "      <td>345094.0</td>\n",
       "      <td>162133.0</td>\n",
       "      <td>351372.0</td>\n",
       "    </tr>\n",
       "    <tr>\n",
       "      <th>550438</th>\n",
       "      <td>1.0</td>\n",
       "      <td>1.0</td>\n",
       "      <td>1.0</td>\n",
       "      <td>1.0</td>\n",
       "      <td>176.0</td>\n",
       "      <td>340.0</td>\n",
       "      <td>177.000000</td>\n",
       "      <td>341.000000</td>\n",
       "      <td>1799.000000</td>\n",
       "      <td>7913.000000</td>\n",
       "      <td>...</td>\n",
       "      <td>50448.0</td>\n",
       "      <td>318289.0</td>\n",
       "      <td>608953.0</td>\n",
       "      <td>1621328.0</td>\n",
       "      <td>702.0</td>\n",
       "      <td>1126.0</td>\n",
       "      <td>22028.0</td>\n",
       "      <td>122210.0</td>\n",
       "      <td>129970.0</td>\n",
       "      <td>280115.0</td>\n",
       "    </tr>\n",
       "  </tbody>\n",
       "</table>\n",
       "<p>10 rows × 192 columns</p>\n",
       "</div>"
      ],
      "text/plain": [
       "          src0    src1     src2      src3      src4      src5        src6  \\\n",
       "543404     1.0     1.0      1.0       1.0     481.0    1203.0  482.000000   \n",
       "322350     1.0     1.0      1.0       1.0       1.0       1.0    2.000000   \n",
       "611612     3.0     4.0      4.0       7.0     316.0     768.0  107.000000   \n",
       "599029     1.0     1.0      1.0       1.0      29.0      35.0   30.000000   \n",
       "108408  1603.0  5093.0  41011.0  158271.0  137132.0  285794.0  135.714910   \n",
       "183545   617.0  1585.0  16583.0   88360.0  112645.0  265723.0  235.322528   \n",
       "135301   653.0  2048.0  22466.0  126459.0  120495.0  250078.0  252.333844   \n",
       "412517     1.0     1.0      1.0       1.0       2.0       3.0    3.000000   \n",
       "290675   289.0   510.0   3687.0   32508.0   76500.0  209865.0  289.221453   \n",
       "550438     1.0     1.0      1.0       1.0     176.0     340.0  177.000000   \n",
       "\n",
       "               src7          src8          src9  ...      dst86       dst87  \\\n",
       "543404  1204.000000  13159.000000  86030.000000  ...     7235.0     49867.0   \n",
       "322350     2.000000      2.000000      2.000000  ...  1118480.0   5389134.0   \n",
       "611612   259.333333   2091.000000  20544.000000  ...       53.0       247.0   \n",
       "599029    36.000000     37.000000     46.000000  ...  4070983.0  21377826.0   \n",
       "108408   372.578291   3052.271366  17863.301934  ...  6853282.0  44151214.0   \n",
       "183545   714.518639   5932.528363  31457.878444  ...  6853282.0  44151214.0   \n",
       "135301   767.148545   6552.686064  34635.750383  ...  4278904.0  22617145.0   \n",
       "412517     4.000000      3.000000      4.000000  ...  4230167.0  22044005.0   \n",
       "290675   949.380623   7698.761246  33777.529412  ...  6817566.0  44294540.0   \n",
       "550438   341.000000   1799.000000   7913.000000  ...    50448.0    318289.0   \n",
       "\n",
       "              dst88        dst89   dst90    dst91     dst92     dst93  \\\n",
       "543404     262186.0     823556.0   385.0   1139.0    2513.0   21137.0   \n",
       "322350    9744784.0   25982765.0  3530.0  19896.0  110785.0  333575.0   \n",
       "611612      16498.0      53483.0    14.0     18.0      41.0     222.0   \n",
       "599029   38896213.0  102350313.0  5547.0  23350.0  120147.0  345094.0   \n",
       "108408  145149413.0  447730576.0  5547.0  23350.0  120147.0  345094.0   \n",
       "183545  145149413.0  447730576.0  5547.0  23350.0  120147.0  345094.0   \n",
       "135301   36786948.0   95186163.0  5547.0  23350.0  120147.0  345094.0   \n",
       "412517   40087059.0  105080261.0  5547.0  23350.0  120147.0  345094.0   \n",
       "290675  120648599.0  367510458.0  5547.0  23350.0  120147.0  345094.0   \n",
       "550438     608953.0    1621328.0   702.0   1126.0   22028.0  122210.0   \n",
       "\n",
       "           dst94     dst95  \n",
       "543404   59030.0  179815.0  \n",
       "322350  162133.0  351372.0  \n",
       "611612   15930.0   52305.0  \n",
       "599029  162133.0  351372.0  \n",
       "108408  162133.0  351372.0  \n",
       "183545  162133.0  351372.0  \n",
       "135301  162133.0  351372.0  \n",
       "412517  162133.0  351372.0  \n",
       "290675  162133.0  351372.0  \n",
       "550438  129970.0  280115.0  \n",
       "\n",
       "[10 rows x 192 columns]"
      ]
     },
     "execution_count": 4,
     "metadata": {},
     "output_type": "execute_result"
    }
   ],
   "source": [
    "X = data.copy()\n",
    "X = X.drop(['label'], axis = 1)\n",
    "X.sample(10)"
   ]
  },
  {
   "cell_type": "code",
   "execution_count": 5,
   "metadata": {},
   "outputs": [
    {
     "data": {
      "text/plain": [
       "39740     1\n",
       "286723    1\n",
       "274669    1\n",
       "427599    0\n",
       "616368    0\n",
       "130503    1\n",
       "48829     1\n",
       "94206     1\n",
       "14589     1\n",
       "341416    0\n",
       "Name: label, dtype: int64"
      ]
     },
     "execution_count": 5,
     "metadata": {},
     "output_type": "execute_result"
    }
   ],
   "source": [
    "y = data['label']\n",
    "y.sample(10)"
   ]
  },
  {
   "cell_type": "code",
   "execution_count": 6,
   "metadata": {},
   "outputs": [
    {
     "name": "stdout",
     "output_type": "stream",
     "text": [
      "(551708, 192)\n",
      "(551708,)\n",
      "(61301, 192)\n",
      "(61301,)\n"
     ]
    }
   ],
   "source": [
    "# 90/10 train-test split\n",
    "X_train, X_test, y_train, y_test = train_test_split(X, y, test_size=0.10, random_state=42)\n",
    "\n",
    "print(X_train.shape)\n",
    "print(y_train.shape)\n",
    "print(X_test.shape)\n",
    "print(y_test.shape)"
   ]
  },
  {
   "cell_type": "code",
   "execution_count": 7,
   "metadata": {},
   "outputs": [
    {
     "data": {
      "text/plain": [
       "LinearRegression(copy_X=True, fit_intercept=True, n_jobs=None, normalize=True)"
      ]
     },
     "execution_count": 7,
     "metadata": {},
     "output_type": "execute_result"
    }
   ],
   "source": [
    "linreg = LinearRegression(normalize = True)\n",
    "linreg.fit(X_train, y_train)"
   ]
  },
  {
   "cell_type": "code",
   "execution_count": 8,
   "metadata": {},
   "outputs": [
    {
     "name": "stdout",
     "output_type": "stream",
     "text": [
      "RMSE: 0.9707\n",
      "Mean absolute error: 0.3575\n",
      "R^2: 0.3793\n"
     ]
    }
   ],
   "source": [
    "y_train_pred = linreg.predict(X_train)\n",
    "y_train_pred = [max(int(round(x)), 0) for x in y_train_pred]\n",
    "print(\"RMSE: %.4f\" % math.sqrt(mean_squared_error(y_train, y_train_pred)))\n",
    "print(\"Mean absolute error: %.4f\" % mean_absolute_error(y_train, y_train_pred))\n",
    "print('R^2: %.4f' % r2_score(y_train, y_train_pred))"
   ]
  },
  {
   "cell_type": "code",
   "execution_count": 9,
   "metadata": {},
   "outputs": [
    {
     "name": "stdout",
     "output_type": "stream",
     "text": [
      "RMSE: 0.9671\n",
      "Mean absolute error: 0.3563\n",
      "R^2: 0.3817\n"
     ]
    }
   ],
   "source": [
    "y_test_pred = linreg.predict(X_test)\n",
    "y_test_pred = [max(int(round(x)), 0) for x in y_test_pred]\n",
    "print(\"RMSE: %.4f\" % math.sqrt(mean_squared_error(y_test, y_test_pred)))\n",
    "print(\"Mean absolute error: %.4f\" % mean_absolute_error(y_test, y_test_pred))\n",
    "print('R^2: %.4f' % r2_score(y_test, y_test_pred))"
   ]
  },
  {
   "cell_type": "code",
   "execution_count": 10,
   "metadata": {},
   "outputs": [
    {
     "data": {
      "text/plain": [
       "array([ 5.24009263e+05, -7.52555441e+05, -1.04801852e+06,  1.50511088e+06,\n",
       "       -5.24009262e+05,  7.52555441e+05,  3.76131913e+07,  1.07446711e+07,\n",
       "        5.01374001e+06,  1.03383583e+06,  2.18906605e+06, -1.06025358e+05,\n",
       "        3.94758558e+05, -2.39059277e+05, -3.28213225e+04,  5.46024168e+02,\n",
       "        5.16475116e+02, -1.14131249e+02,  6.37341569e+07, -4.49843333e+06,\n",
       "        1.45612420e+06,  1.13736050e+06, -9.86662069e+05,  5.60039761e+05,\n",
       "       -4.16859961e+07, -1.11851113e+07,  3.13186951e+06, -1.52955538e+05,\n",
       "        1.88373871e+06,  5.46465502e+05, -1.42049936e-04,  7.35848299e-05,\n",
       "       -2.06548462e-05,  6.84533625e-06, -8.85313207e-06,  1.82401536e-06,\n",
       "       -4.07280476e+06, -4.40440144e+05, -3.30973333e-07, -8.75074256e-09,\n",
       "       -1.16026386e-08,  3.95082388e-09,  1.87707817e-05, -1.53540791e-05,\n",
       "       -8.13845811e-06,  3.63887348e-06, -2.85582001e-06, -4.76730870e-07,\n",
       "        1.28451173e+05, -5.13356639e+05,  3.44203834e+04, -8.25073137e+02,\n",
       "        2.83055338e+02, -2.53932361e+01, -8.42208656e-07,  2.56522784e-08,\n",
       "       -1.47015694e-07,  7.01416106e-08, -7.95624899e-09, -1.49151034e-08,\n",
       "       -7.99530454e+02,  1.39524485e+02,  1.38497712e-08,  1.79205205e-10,\n",
       "       -6.78440919e-09,  2.43160460e-09,  4.08069322e-07,  3.63130033e-08,\n",
       "        7.32506039e-08, -4.08477892e-08,  5.22186347e-09,  7.86130784e-09,\n",
       "       -6.37341569e+07,  4.49843333e+06, -1.45612420e+06, -1.13736050e+06,\n",
       "        9.86662069e+05, -5.60039761e+05,  4.70595372e-05, -4.19140605e-06,\n",
       "       -3.38468576e-06,  7.69920924e-07, -5.36945029e-07,  1.05470750e-06,\n",
       "        1.75076935e-05, -4.46336152e-06,  7.32184951e-08, -1.47031091e-08,\n",
       "        1.93772351e-08, -4.75594155e-09, -2.55863098e-05,  8.13052699e-06,\n",
       "        1.08800728e-05, -3.73100583e-06,  3.30214229e-06,  6.77283710e-08,\n",
       "       -9.34501990e+06,  2.62217629e+04,  1.86900398e+07, -5.24435247e+04,\n",
       "        9.34501990e+06, -2.62217624e+04,  3.25453811e+06,  9.77430732e+05,\n",
       "        2.75758874e+06, -7.22565560e+05,  1.41180416e+06, -5.12521756e+05,\n",
       "       -4.77181646e+06,  5.46212319e+04,  1.56030037e+04, -3.93065245e+03,\n",
       "        1.21439733e+04, -1.97662643e+03,  2.87193315e+06, -6.62023474e+04,\n",
       "        1.72348117e+04,  1.00965874e+04,  2.35662861e+04, -1.19869477e+03,\n",
       "       -6.16945744e+06, -1.69048404e+05,  3.07224990e+06, -8.94199095e+05,\n",
       "        1.50311516e+06, -2.95860572e+05, -1.95560738e-04,  2.25792538e-05,\n",
       "       -1.03364832e-05,  7.52249820e-06, -1.11481911e-05,  3.31680359e-06,\n",
       "       -2.91491932e+06,  8.08382327e+05,  1.69756771e-07, -1.96218635e-08,\n",
       "        3.73641935e-08, -9.23373778e-09,  3.54052695e-05, -8.75516522e-06,\n",
       "       -5.51161377e-06,  1.68702183e-06, -2.76060154e-06,  8.03083544e-07,\n",
       "       -4.59755640e+06, -2.44181039e+04,  3.31029095e+04, -4.03207892e+03,\n",
       "        1.22089833e+04, -2.00473926e+03,  6.07522483e-06, -1.58887788e-06,\n",
       "       -4.36196781e-07,  1.82792125e-07, -2.16576325e-07,  3.16618388e-08,\n",
       "       -2.43529566e+04,  3.98136569e+03,  3.43559220e-08, -7.82288395e-09,\n",
       "        1.41929493e-09,  4.12636056e-10, -9.16111216e-07,  6.49546448e-07,\n",
       "        1.67611960e-08, -4.00571347e-08,  1.38161854e-07, -4.71842343e-08,\n",
       "       -2.87193315e+06,  6.62023474e+04, -1.72348117e+04, -1.00965874e+04,\n",
       "       -2.35662861e+04,  1.19869477e+03,  8.02951005e-05,  1.05253952e-05,\n",
       "       -6.93905841e-06,  5.56495698e-07,  4.50605659e-07,  1.78633722e-08,\n",
       "        7.88095828e-06,  1.65106450e-06,  1.04916829e-08, -2.49722213e-08,\n",
       "       -1.11920296e-08,  2.79233822e-09, -2.26034043e-05,  7.07743617e-06,\n",
       "        6.12112975e-06, -1.69857405e-06,  2.84440283e-06, -4.98145749e-07])"
      ]
     },
     "execution_count": 10,
     "metadata": {},
     "output_type": "execute_result"
    }
   ],
   "source": [
    "linreg.coef_"
   ]
  },
  {
   "cell_type": "code",
   "execution_count": null,
   "metadata": {
    "collapsed": true
   },
   "outputs": [],
   "source": [
    "def load_inference_data(filename, n_examples):\n",
    "    inference_data = pd.read_csv(filename, index_col = 0)\n",
    "    inference_data = inference_data.sample(n_examples)\n",
    "    inference_node_pairs = inference_data[['src_id', 'dst_id']]\n",
    "    inference_features = inference_data.copy()\n",
    "    inference_features.drop(['src_id', 'dst_id'], axis = 1, inplace = True)\n",
    "    return inference_node_pairs, inference_features"
   ]
  },
  {
   "cell_type": "code",
   "execution_count": null,
   "metadata": {
    "collapsed": true
   },
   "outputs": [],
   "source": [
    "# load inference dataset\n",
    "inference_node_pairs, inference_features = load_inference_data('data/rolx_inference_weighted.csv', 200000)"
   ]
  },
  {
   "cell_type": "code",
   "execution_count": null,
   "metadata": {
    "collapsed": true
   },
   "outputs": [],
   "source": [
    "inference_preds = linreg.predict(inference_features)\n",
    "inference_preds = [max(int(round(x)), 0) for x in inference_preds]\n",
    "print(np.count_nonzero(inference_preds))"
   ]
  },
  {
   "cell_type": "code",
   "execution_count": null,
   "metadata": {
    "collapsed": true
   },
   "outputs": [],
   "source": [
    "def output_new_edges(inference_preds, inference_node_pairs, model_type, embedding_type):\n",
    "    filename = 'data/' + model_type + '_' + embedding_type + '_edges_to_add.csv'\n",
    "    with open(filename, 'w') as out_file:\n",
    "        for i, pred in enumerate(inference_preds):\n",
    "            if pred > 0:\n",
    "                src = inference_node_pairs.iloc[i, 0]\n",
    "                dst = inference_node_pairs.iloc[i, 1]\n",
    "                weight = pred\n",
    "                line = str(src) + ', ' + str(dst) + ', ' + str(weight) + '\\n'\n",
    "                out_file.write(line)"
   ]
  },
  {
   "cell_type": "code",
   "execution_count": null,
   "metadata": {
    "collapsed": true
   },
   "outputs": [],
   "source": [
    "output_new_edges(inference_preds, inference_node_pairs, 'linreg', 'rolx')"
   ]
  }
 ],
 "metadata": {
  "kernelspec": {
   "display_name": "224env",
   "language": "python",
   "name": "224env"
  },
  "language_info": {
   "codemirror_mode": {
    "name": "ipython",
    "version": 3
   },
   "file_extension": ".py",
   "mimetype": "text/x-python",
   "name": "python",
   "nbconvert_exporter": "python",
   "pygments_lexer": "ipython3",
   "version": "3.7.3"
  }
 },
 "nbformat": 4,
 "nbformat_minor": 2
}
