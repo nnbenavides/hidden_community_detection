{
 "cells": [
  {
   "cell_type": "code",
   "execution_count": 24,
   "metadata": {
    "collapsed": true
   },
   "outputs": [],
   "source": [
    "import networkx as nx\n",
    "import pandas as pd\n",
    "import community\n",
    "import numpy as np"
   ]
  },
  {
   "cell_type": "code",
   "execution_count": 5,
   "metadata": {
    "collapsed": true
   },
   "outputs": [],
   "source": [
    "def load_graph(filename):\n",
    "    df = pd.read_csv(filename, header=None, names=['source', 'target', 'weight'])\n",
    "    G = nx.from_pandas_edgelist(df, edge_attr='weight', create_using=nx.Graph())\n",
    "    return G"
   ]
  },
  {
   "cell_type": "code",
   "execution_count": 17,
   "metadata": {
    "collapsed": true
   },
   "outputs": [],
   "source": [
    "def add_inference_edges(G, edge_list):\n",
    "    edges = pd.read_csv(edge_list, header = None)\n",
    "    edges.columns = ['src', 'dst', 'weight']\n",
    "    edge_tuples = []\n",
    "    for i in range(edges.shape[0]):\n",
    "        src = edges.iloc[i, 0]\n",
    "        dst = edges.iloc[i, 1]\n",
    "        weight = edges.iloc[i, 2]\n",
    "        edge_tuples.append((src, dst, weight))\n",
    "    G.add_weighted_edges_from(edge_tuples)\n",
    "    return G"
   ]
  },
  {
   "cell_type": "code",
   "execution_count": 27,
   "metadata": {
    "collapsed": true
   },
   "outputs": [],
   "source": [
    "def write_out_results(reverse_comms, filename):\n",
    "    # Write results to file\n",
    "    f = open('results/' + filename, 'a')\n",
    "    for cmty, nodes in reverse_comms.items():\n",
    "        f.write(\"Community %d:\\n\" % cmty)\n",
    "        for node in nodes:\n",
    "            f.write(nodes_mapping[node] + \"\\n\")\n",
    "        f.write(\"\\n\")"
   ]
  },
  {
   "cell_type": "code",
   "execution_count": 18,
   "metadata": {},
   "outputs": [
    {
     "name": "stdout",
     "output_type": "stream",
     "text": [
      "309667\n",
      "372285\n"
     ]
    }
   ],
   "source": [
    "G = load_graph('data/reddit_nodes_weighted_full.csv')\n",
    "print('OG edges:', len(G.edges()))\n",
    "G = add_inference_edges(G, 'new_edges/linreg_rolx_edges_to_add.csv')\n",
    "print('New edges: ', len(G.edges()))"
   ]
  },
  {
   "cell_type": "code",
   "execution_count": 36,
   "metadata": {
    "collapsed": true
   },
   "outputs": [],
   "source": [
    "# run Louvain\n",
    "partition = community.best_partition(G, randomize = True)"
   ]
  },
  {
   "cell_type": "code",
   "execution_count": 37,
   "metadata": {},
   "outputs": [
    {
     "name": "stdout",
     "output_type": "stream",
     "text": [
      "modularity: 0.43735921236408004\n"
     ]
    }
   ],
   "source": [
    "modularity = community.modularity(partition, G)\n",
    "print(\"modularity: \" + str(modularity))"
   ]
  },
  {
   "cell_type": "code",
   "execution_count": 38,
   "metadata": {},
   "outputs": [
    {
     "name": "stdout",
     "output_type": "stream",
     "text": [
      "Louvian detected 325 communities\n"
     ]
    }
   ],
   "source": [
    "communities = {}\n",
    "for v in partition.values():\n",
    "    communities[v] = communities.get(v, 0) + 1\n",
    "print(\"Louvian detected %d communities\" % len(communities.keys()))"
   ]
  },
  {
   "cell_type": "code",
   "execution_count": 22,
   "metadata": {},
   "outputs": [
    {
     "name": "stdout",
     "output_type": "stream",
     "text": [
      "322\n"
     ]
    }
   ],
   "source": [
    "# reverse the dict\n",
    "comms = dict(partition)\n",
    "reverse_comms = {}\n",
    "for key, val in comms.items():\n",
    "    reverse_comms[val] = reverse_comms.get(val, []) + [key]\n",
    "print(len(reverse_comms.keys()))"
   ]
  },
  {
   "cell_type": "code",
   "execution_count": 25,
   "metadata": {},
   "outputs": [],
   "source": [
    "# Load nodes mapping\n",
    "nodes_mapping = np.load('data/reverse_nodes_mapping.npy', allow_pickle = True)\n",
    "nodes_mapping = nodes_mapping.item()"
   ]
  },
  {
   "cell_type": "code",
   "execution_count": 29,
   "metadata": {},
   "outputs": [],
   "source": [
    "write_out_results(reverse_comms, 'louvain_linreg.txt')"
   ]
  }
 ],
 "metadata": {
  "kernelspec": {
   "display_name": "224env",
   "language": "python",
   "name": "224env"
  },
  "language_info": {
   "codemirror_mode": {
    "name": "ipython",
    "version": 3
   },
   "file_extension": ".py",
   "mimetype": "text/x-python",
   "name": "python",
   "nbconvert_exporter": "python",
   "pygments_lexer": "ipython3",
   "version": "3.7.3"
  }
 },
 "nbformat": 4,
 "nbformat_minor": 2
}
